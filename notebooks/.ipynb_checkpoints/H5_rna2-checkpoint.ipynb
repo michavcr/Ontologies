{
 "cells": [
  {
   "cell_type": "code",
   "execution_count": 2,
   "metadata": {},
   "outputs": [],
   "source": [
    "import os\n",
    "import sys\n",
    "sys.path.append(os.path.join('..', 'src'))"
   ]
  },
  {
   "cell_type": "code",
   "execution_count": 3,
   "metadata": {},
   "outputs": [],
   "source": [
    "from genes_annotations import *\n",
    "from autoencoder import *\n",
    "from utils import *"
   ]
  },
  {
   "cell_type": "code",
   "execution_count": 4,
   "metadata": {},
   "outputs": [],
   "source": [
    "filename = \"../data_tisch2/Glioma_GSE102130_expression.h5\"\n",
    "\n",
    "h5 = read_h5(filename)"
   ]
  },
  {
   "cell_type": "code",
   "execution_count": 5,
   "metadata": {},
   "outputs": [],
   "source": [
    "selected_genes = get_all_genes(h5)"
   ]
  },
  {
   "cell_type": "code",
   "execution_count": 6,
   "metadata": {},
   "outputs": [
    {
     "name": "stdout",
     "output_type": "stream",
     "text": [
      "HMS:0:00:11.399865 606,840 annotations READ: ../goa_human.gaf \n",
      "../go.obo: fmt(1.2) rel(2021-02-01) 50,515 GO Terms; optional_attrs(consider replaced_by)\n"
     ]
    }
   ],
   "source": [
    "genes_go, all_go, all_genes = get_all_gene_annotations(h5)"
   ]
  },
  {
   "cell_type": "code",
   "execution_count": 7,
   "metadata": {},
   "outputs": [
    {
     "data": {
      "text/plain": [
       "[18370, 4058]"
      ]
     },
     "execution_count": 7,
     "metadata": {},
     "output_type": "execute_result"
    }
   ],
   "source": [
    "list(h5['matrix']['shape'])"
   ]
  },
  {
   "cell_type": "code",
   "execution_count": 8,
   "metadata": {},
   "outputs": [
    {
     "data": {
      "text/plain": [
       "18370"
      ]
     },
     "execution_count": 8,
     "metadata": {},
     "output_type": "execute_result"
    }
   ],
   "source": [
    "len(selected_genes)"
   ]
  },
  {
   "cell_type": "code",
   "execution_count": 9,
   "metadata": {},
   "outputs": [
    {
     "data": {
      "text/plain": [
       "10232"
      ]
     },
     "execution_count": 9,
     "metadata": {},
     "output_type": "execute_result"
    }
   ],
   "source": [
    "len(all_genes)"
   ]
  },
  {
   "cell_type": "code",
   "execution_count": 10,
   "metadata": {},
   "outputs": [],
   "source": [
    "mask = build_mask(h5,genes_go,all_go,all_genes)"
   ]
  },
  {
   "cell_type": "code",
   "execution_count": 11,
   "metadata": {},
   "outputs": [
    {
     "data": {
      "text/plain": [
       "tensor(25291)"
      ]
     },
     "execution_count": 11,
     "metadata": {},
     "output_type": "execute_result"
    }
   ],
   "source": [
    "mask.sum()"
   ]
  },
  {
   "cell_type": "code",
   "execution_count": 12,
   "metadata": {},
   "outputs": [],
   "source": [
    "import autoencoder"
   ]
  },
  {
   "cell_type": "code",
   "execution_count": 13,
   "metadata": {},
   "outputs": [],
   "source": [
    "filename = \"../data_tisch2/Glioma_GSE102130_CellMetainfo_table.tsv\"\n"
   ]
  },
  {
   "cell_type": "code",
   "execution_count": 14,
   "metadata": {},
   "outputs": [],
   "source": [
    "import matplotlib"
   ]
  },
  {
   "cell_type": "code",
   "execution_count": 15,
   "metadata": {},
   "outputs": [
    {
     "data": {
      "text/plain": [
       "array([[<matplotlib.axes._subplots.AxesSubplot object at 0x7f2ca982ecc0>]],\n",
       "      dtype=object)"
      ]
     },
     "execution_count": 15,
     "metadata": {},
     "output_type": "execute_result"
    },
    {
     "data": {
      "image/png": "[encoded data removed]",
      "text/plain": [
       "<Figure size 432x288 with 1 Axes>"
      ]
     },
     "metadata": {},
     "output_type": "display_data"
    }
   ],
   "source": [
    "pd.DataFrame(h5['matrix']['indptr']).diff().hist()"
   ]
  },
  {
   "cell_type": "code",
   "execution_count": 16,
   "metadata": {},
   "outputs": [],
   "source": [
    "features=h5['matrix']['features']\n",
    "indices=h5['matrix']['indices']\n",
    "indptr=h5['matrix']['indptr']"
   ]
  },
  {
   "cell_type": "code",
   "execution_count": 17,
   "metadata": {},
   "outputs": [
    {
     "name": "stdout",
     "output_type": "stream",
     "text": [
      "'build_expr_mat'  497.13 ms\n"
     ]
    }
   ],
   "source": [
    "expr_mat = build_expr_mat(h5)"
   ]
  },
  {
   "cell_type": "code",
   "execution_count": 18,
   "metadata": {},
   "outputs": [],
   "source": [
    "import torch"
   ]
  },
  {
   "cell_type": "code",
   "execution_count": 19,
   "metadata": {},
   "outputs": [],
   "source": [
    "indgenes = torch.Tensor(np.array(h5['matrix']['indices']))"
   ]
  },
  {
   "cell_type": "code",
   "execution_count": 20,
   "metadata": {},
   "outputs": [
    {
     "name": "stdout",
     "output_type": "stream",
     "text": [
      "'select_gene_expr_v2'  342.30 ms\n"
     ]
    }
   ],
   "source": [
    "expr_mat = select_gene_expr_v2(h5, expr_mat, all_genes)"
   ]
  },
  {
   "cell_type": "markdown",
   "metadata": {},
   "source": [
    "## Training"
   ]
  },
  {
   "cell_type": "code",
   "execution_count": 21,
   "metadata": {},
   "outputs": [],
   "source": [
    "sel_expr_mat, mask = quantile_columns(expr_mat, mask, p=0.7)"
   ]
  },
  {
   "cell_type": "code",
   "execution_count": 22,
   "metadata": {},
   "outputs": [
    {
     "data": {
      "text/plain": [
       "(4058, 4407)"
      ]
     },
     "execution_count": 22,
     "metadata": {},
     "output_type": "execute_result"
    }
   ],
   "source": [
    "sel_expr_mat.shape"
   ]
  },
  {
   "cell_type": "code",
   "execution_count": 23,
   "metadata": {},
   "outputs": [],
   "source": [
    "N_genes = sel_expr_mat.shape[1]"
   ]
  },
  {
   "cell_type": "code",
   "execution_count": 24,
   "metadata": {},
   "outputs": [
    {
     "data": {
      "text/plain": [
       "torch.Size([4407, 1414])"
      ]
     },
     "execution_count": 24,
     "metadata": {},
     "output_type": "execute_result"
    }
   ],
   "source": [
    "mask.shape"
   ]
  },
  {
   "cell_type": "code",
   "execution_count": 25,
   "metadata": {},
   "outputs": [],
   "source": [
    "import pandas as pd\n",
    "df = pd.read_csv('../data_tisch2/Glioma_GSE102130_CellMetainfo_table.tsv', delimiter='\\t')\n",
    "#targets = pd.get_dummies(df['Cluster'])\n",
    "#targets = np.array(targets)\n",
    "targets = np.array(df['Cluster'])\n",
    "N_classes = targets.max()+1"
   ]
  },
  {
   "cell_type": "code",
   "execution_count": 26,
   "metadata": {},
   "outputs": [],
   "source": [
    "#std_expr_mat=min_max_normalisation(std_normalisation(expr_mat), e=0)\n",
    "std_expr_mat = std_normalisation(expr_mat)"
   ]
  },
  {
   "cell_type": "code",
   "execution_count": 27,
   "metadata": {},
   "outputs": [
    {
     "data": {
      "text/plain": [
       "10232"
      ]
     },
     "execution_count": 27,
     "metadata": {},
     "output_type": "execute_result"
    }
   ],
   "source": [
    "std_expr_mat.shape[1]"
   ]
  },
  {
   "cell_type": "code",
   "execution_count": 28,
   "metadata": {},
   "outputs": [
    {
     "data": {
      "text/plain": [
       "torch.Size([4407, 1414])"
      ]
     },
     "execution_count": 28,
     "metadata": {},
     "output_type": "execute_result"
    }
   ],
   "source": [
    "mask.shape"
   ]
  },
  {
   "cell_type": "code",
   "execution_count": 51,
   "metadata": {},
   "outputs": [
    {
     "name": "stdout",
     "output_type": "stream",
     "text": [
      "----------------------------------------------------------------\n",
      "        Layer (type)               Output Shape         Param #\n",
      "================================================================\n",
      "              Tanh-1              [-1, 1, 1414]               0\n",
      "      MaskedLinear-2              [-1, 1, 1414]               0\n",
      "            Linear-3               [-1, 1, 500]         707,500\n",
      "              Tanh-4               [-1, 1, 500]               0\n",
      "            Linear-5                [-1, 1, 15]           7,515\n",
      "           Softmax-6                [-1, 1, 15]               0\n",
      "================================================================\n",
      "Total params: 715,015\n",
      "Trainable params: 715,015\n",
      "Non-trainable params: 0\n",
      "----------------------------------------------------------------\n",
      "Input size (MB): 0.04\n",
      "Forward/backward pass size (MB): 0.03\n",
      "Params size (MB): 2.73\n",
      "Estimated Total Size (MB): 2.80\n",
      "----------------------------------------------------------------\n",
      "[1,     1] loss: 2.71322, accuracy: 0.00000\n",
      "[2,     1] loss: 2.52843, accuracy: 0.52000\n",
      "[3,     1] loss: 2.38891, accuracy: 0.52000\n",
      "[4,     1] loss: 2.36776, accuracy: 0.72000\n",
      "[5,     1] loss: 2.24658, accuracy: 0.84000\n",
      "[6,     1] loss: 2.09454, accuracy: 0.90000\n",
      "[7,     1] loss: 2.02535, accuracy: 0.92000\n",
      "[8,     1] loss: 1.98957, accuracy: 0.92000\n",
      "[9,     1] loss: 1.96449, accuracy: 0.94000\n",
      "[10,     1] loss: 1.94546, accuracy: 0.94000\n",
      "[11,     1] loss: 1.93048, accuracy: 0.94000\n",
      "[12,     1] loss: 1.91856, accuracy: 0.96000\n",
      "[13,     1] loss: 1.90857, accuracy: 0.96000\n",
      "[14,     1] loss: 1.89984, accuracy: 0.96000\n",
      "[15,     1] loss: 1.89181, accuracy: 0.96000\n",
      "[16,     1] loss: 1.88396, accuracy: 0.98000\n",
      "[17,     1] loss: 1.87612, accuracy: 1.00000\n",
      "[18,     1] loss: 1.86808, accuracy: 1.00000\n",
      "[19,     1] loss: 1.85460, accuracy: 1.00000\n",
      "[20,     1] loss: 1.85113, accuracy: 1.00000\n",
      "[21,     1] loss: 1.84534, accuracy: 1.00000\n",
      "[22,     1] loss: 1.84221, accuracy: 1.00000\n",
      "[23,     1] loss: 1.83855, accuracy: 1.00000\n",
      "[24,     1] loss: 1.83615, accuracy: 1.00000\n",
      "[25,     1] loss: 1.83378, accuracy: 1.00000\n",
      "[26,     1] loss: 1.83193, accuracy: 1.00000\n",
      "[27,     1] loss: 1.83022, accuracy: 1.00000\n",
      "[28,     1] loss: 1.82885, accuracy: 1.00000\n",
      "[29,     1] loss: 1.82766, accuracy: 1.00000\n",
      "[30,     1] loss: 1.82666, accuracy: 1.00000\n",
      "[31,     1] loss: 1.82577, accuracy: 1.00000\n",
      "[32,     1] loss: 1.82495, accuracy: 1.00000\n",
      "[33,     1] loss: 1.82421, accuracy: 1.00000\n",
      "[34,     1] loss: 1.82357, accuracy: 1.00000\n",
      "[35,     1] loss: 1.82299, accuracy: 1.00000\n",
      "[36,     1] loss: 1.82248, accuracy: 1.00000\n",
      "[37,     1] loss: 1.82204, accuracy: 1.00000\n",
      "[38,     1] loss: 1.82180, accuracy: 1.00000\n",
      "[39,     1] loss: 1.82155, accuracy: 1.00000\n",
      "[40,     1] loss: 1.82123, accuracy: 1.00000\n",
      "[41,     1] loss: 1.82093, accuracy: 1.00000\n",
      "[42,     1] loss: 1.82066, accuracy: 1.00000\n",
      "[43,     1] loss: 1.82041, accuracy: 1.00000\n",
      "[44,     1] loss: 1.82018, accuracy: 1.00000\n",
      "[45,     1] loss: 1.81994, accuracy: 1.00000\n",
      "[46,     1] loss: 1.81973, accuracy: 1.00000\n",
      "[47,     1] loss: 1.81952, accuracy: 1.00000\n",
      "[48,     1] loss: 1.81934, accuracy: 1.00000\n",
      "[49,     1] loss: 1.81918, accuracy: 1.00000\n",
      "[50,     1] loss: 1.81903, accuracy: 1.00000\n",
      "[51,     1] loss: 1.81891, accuracy: 1.00000\n",
      "[52,     1] loss: 1.81877, accuracy: 1.00000\n",
      "[53,     1] loss: 1.81862, accuracy: 1.00000\n",
      "[54,     1] loss: 1.81850, accuracy: 1.00000\n",
      "[55,     1] loss: 1.81841, accuracy: 1.00000\n",
      "[56,     1] loss: 1.81832, accuracy: 1.00000\n",
      "[57,     1] loss: 1.81822, accuracy: 1.00000\n",
      "[58,     1] loss: 1.81812, accuracy: 1.00000\n",
      "[59,     1] loss: 1.81803, accuracy: 1.00000\n",
      "[60,     1] loss: 1.81795, accuracy: 1.00000\n",
      "[61,     1] loss: 1.81787, accuracy: 1.00000\n",
      "[62,     1] loss: 1.81779, accuracy: 1.00000\n",
      "[63,     1] loss: 1.81772, accuracy: 1.00000\n",
      "[64,     1] loss: 1.81765, accuracy: 1.00000\n",
      "[65,     1] loss: 1.81759, accuracy: 1.00000\n",
      "[66,     1] loss: 1.81754, accuracy: 1.00000\n",
      "[67,     1] loss: 1.81748, accuracy: 1.00000\n",
      "[68,     1] loss: 1.81743, accuracy: 1.00000\n",
      "[69,     1] loss: 1.81739, accuracy: 1.00000\n",
      "[70,     1] loss: 1.81734, accuracy: 1.00000\n",
      "[71,     1] loss: 1.81730, accuracy: 1.00000\n",
      "[72,     1] loss: 1.81726, accuracy: 1.00000\n",
      "[73,     1] loss: 1.81722, accuracy: 1.00000\n",
      "[74,     1] loss: 1.81719, accuracy: 1.00000\n",
      "[75,     1] loss: 1.81715, accuracy: 1.00000\n",
      "[76,     1] loss: 1.81712, accuracy: 1.00000\n",
      "[77,     1] loss: 1.81709, accuracy: 1.00000\n",
      "[78,     1] loss: 1.81705, accuracy: 1.00000\n",
      "[79,     1] loss: 1.81702, accuracy: 1.00000\n",
      "[80,     1] loss: 1.81701, accuracy: 1.00000\n",
      "[81,     1] loss: 1.81699, accuracy: 1.00000\n",
      "[82,     1] loss: 1.81698, accuracy: 1.00000\n",
      "[83,     1] loss: 1.81696, accuracy: 1.00000\n",
      "[84,     1] loss: 1.81696, accuracy: 1.00000\n",
      "[85,     1] loss: 1.81696, accuracy: 1.00000\n",
      "[86,     1] loss: 1.81693, accuracy: 1.00000\n",
      "[87,     1] loss: 1.81690, accuracy: 1.00000\n",
      "[88,     1] loss: 1.81688, accuracy: 1.00000\n",
      "[89,     1] loss: 1.81686, accuracy: 1.00000\n",
      "[90,     1] loss: 1.81684, accuracy: 1.00000\n",
      "[91,     1] loss: 1.81682, accuracy: 1.00000\n",
      "[92,     1] loss: 1.81681, accuracy: 1.00000\n",
      "[93,     1] loss: 1.81679, accuracy: 1.00000\n",
      "[94,     1] loss: 1.81678, accuracy: 1.00000\n",
      "[95,     1] loss: 1.81676, accuracy: 1.00000\n",
      "[96,     1] loss: 1.81675, accuracy: 1.00000\n",
      "[97,     1] loss: 1.81674, accuracy: 1.00000\n",
      "[98,     1] loss: 1.81674, accuracy: 1.00000\n",
      "[99,     1] loss: 1.81691, accuracy: 1.00000\n",
      "[100,     1] loss: 1.81669, accuracy: 1.00000\n",
      "[101,     1] loss: 1.81670, accuracy: 1.00000\n",
      "[102,     1] loss: 1.81669, accuracy: 1.00000\n",
      "[103,     1] loss: 1.81669, accuracy: 1.00000\n",
      "[104,     1] loss: 1.81668, accuracy: 1.00000\n",
      "[105,     1] loss: 1.81678, accuracy: 1.00000\n",
      "[106,     1] loss: 1.81672, accuracy: 1.00000\n",
      "[107,     1] loss: 1.81669, accuracy: 1.00000\n",
      "[108,     1] loss: 1.81667, accuracy: 1.00000\n",
      "[109,     1] loss: 1.81666, accuracy: 1.00000\n",
      "[110,     1] loss: 1.81665, accuracy: 1.00000\n",
      "[111,     1] loss: 1.81664, accuracy: 1.00000\n",
      "[112,     1] loss: 1.81664, accuracy: 1.00000\n",
      "[113,     1] loss: 1.81667, accuracy: 1.00000\n",
      "[114,     1] loss: 1.81665, accuracy: 1.00000\n",
      "[115,     1] loss: 1.81663, accuracy: 1.00000\n",
      "[116,     1] loss: 1.81662, accuracy: 1.00000\n",
      "[117,     1] loss: 1.81661, accuracy: 1.00000\n",
      "[118,     1] loss: 1.81661, accuracy: 1.00000\n",
      "[119,     1] loss: 1.81660, accuracy: 1.00000\n",
      "[120,     1] loss: 1.81659, accuracy: 1.00000\n",
      "[121,     1] loss: 1.81659, accuracy: 1.00000\n",
      "[122,     1] loss: 1.81658, accuracy: 1.00000\n",
      "[123,     1] loss: 1.81658, accuracy: 1.00000\n",
      "[124,     1] loss: 1.81658, accuracy: 1.00000\n",
      "[125,     1] loss: 1.81657, accuracy: 1.00000\n",
      "[126,     1] loss: 1.81657, accuracy: 1.00000\n",
      "[127,     1] loss: 1.81657, accuracy: 1.00000\n",
      "[128,     1] loss: 1.81656, accuracy: 1.00000\n",
      "[129,     1] loss: 1.81656, accuracy: 1.00000\n",
      "[130,     1] loss: 1.81656, accuracy: 1.00000\n",
      "[131,     1] loss: 1.81656, accuracy: 1.00000\n",
      "[132,     1] loss: 1.81655, accuracy: 1.00000\n",
      "[133,     1] loss: 1.81655, accuracy: 1.00000\n",
      "[134,     1] loss: 1.81655, accuracy: 1.00000\n",
      "[135,     1] loss: 1.81655, accuracy: 1.00000\n",
      "[136,     1] loss: 1.81655, accuracy: 1.00000\n",
      "[137,     1] loss: 1.81654, accuracy: 1.00000\n",
      "[138,     1] loss: 1.81654, accuracy: 1.00000\n",
      "[139,     1] loss: 1.81654, accuracy: 1.00000\n",
      "[140,     1] loss: 1.81654, accuracy: 1.00000\n",
      "[141,     1] loss: 1.81654, accuracy: 1.00000\n",
      "[142,     1] loss: 1.81653, accuracy: 1.00000\n",
      "[143,     1] loss: 1.81653, accuracy: 1.00000\n",
      "[144,     1] loss: 1.81653, accuracy: 1.00000\n",
      "[145,     1] loss: 1.81653, accuracy: 1.00000\n",
      "[146,     1] loss: 1.81653, accuracy: 1.00000\n",
      "[147,     1] loss: 1.81653, accuracy: 1.00000\n",
      "[148,     1] loss: 1.81653, accuracy: 1.00000\n",
      "[149,     1] loss: 1.81653, accuracy: 1.00000\n",
      "[150,     1] loss: 1.81653, accuracy: 1.00000\n",
      "[151,     1] loss: 1.81652, accuracy: 1.00000\n",
      "[152,     1] loss: 1.81652, accuracy: 1.00000\n",
      "[153,     1] loss: 1.81652, accuracy: 1.00000\n",
      "[154,     1] loss: 1.81652, accuracy: 1.00000\n",
      "[155,     1] loss: 1.81652, accuracy: 1.00000\n",
      "[156,     1] loss: 1.81652, accuracy: 1.00000\n",
      "[157,     1] loss: 1.81652, accuracy: 1.00000\n",
      "[158,     1] loss: 1.81652, accuracy: 1.00000\n",
      "[159,     1] loss: 1.81652, accuracy: 1.00000\n",
      "[160,     1] loss: 1.81652, accuracy: 1.00000\n",
      "[161,     1] loss: 1.81652, accuracy: 1.00000\n",
      "[162,     1] loss: 1.81652, accuracy: 1.00000\n",
      "[163,     1] loss: 1.81652, accuracy: 1.00000\n",
      "[164,     1] loss: 1.81652, accuracy: 1.00000\n",
      "[165,     1] loss: 1.81651, accuracy: 1.00000\n",
      "[166,     1] loss: 1.81651, accuracy: 1.00000\n",
      "[167,     1] loss: 1.81652, accuracy: 1.00000\n",
      "[168,     1] loss: 1.81651, accuracy: 1.00000\n",
      "[169,     1] loss: 1.81651, accuracy: 1.00000\n",
      "[170,     1] loss: 1.81651, accuracy: 1.00000\n",
      "[171,     1] loss: 1.81651, accuracy: 1.00000\n",
      "[172,     1] loss: 1.81651, accuracy: 1.00000\n",
      "[173,     1] loss: 1.81651, accuracy: 1.00000\n",
      "[174,     1] loss: 1.81651, accuracy: 1.00000\n",
      "[175,     1] loss: 1.81651, accuracy: 1.00000\n",
      "[176,     1] loss: 1.81651, accuracy: 1.00000\n",
      "[177,     1] loss: 1.81651, accuracy: 1.00000\n",
      "[178,     1] loss: 1.81651, accuracy: 1.00000\n",
      "[179,     1] loss: 1.81651, accuracy: 1.00000\n",
      "[180,     1] loss: 1.81651, accuracy: 1.00000\n",
      "[181,     1] loss: 1.81651, accuracy: 1.00000\n",
      "[182,     1] loss: 1.81651, accuracy: 1.00000\n",
      "[183,     1] loss: 1.81651, accuracy: 1.00000\n",
      "[184,     1] loss: 1.81651, accuracy: 1.00000\n",
      "[185,     1] loss: 1.81651, accuracy: 1.00000\n",
      "[186,     1] loss: 1.81651, accuracy: 1.00000\n",
      "[187,     1] loss: 1.81651, accuracy: 1.00000\n",
      "[188,     1] loss: 1.81651, accuracy: 1.00000\n",
      "[189,     1] loss: 1.81651, accuracy: 1.00000\n",
      "[190,     1] loss: 1.81651, accuracy: 1.00000\n",
      "[191,     1] loss: 1.81651, accuracy: 1.00000\n",
      "[192,     1] loss: 1.81651, accuracy: 1.00000\n",
      "[193,     1] loss: 1.81651, accuracy: 1.00000\n",
      "[194,     1] loss: 1.81651, accuracy: 1.00000\n",
      "[195,     1] loss: 1.81651, accuracy: 1.00000\n",
      "[196,     1] loss: 1.81651, accuracy: 1.00000\n",
      "[197,     1] loss: 1.81651, accuracy: 1.00000\n",
      "[198,     1] loss: 1.81651, accuracy: 1.00000\n",
      "[199,     1] loss: 1.81651, accuracy: 1.00000\n",
      "[200,     1] loss: 1.81651, accuracy: 1.00000\n",
      "Finished Training\n",
      "'clf_pipeline'  2731687.96 ms\n"
     ]
    }
   ],
   "source": [
    "clf, train_loader = clf_pipeline(200, std_expr_mat.shape[1], mask, std_expr_mat, targets, N_classes, batch_size=50)"
   ]
  },
  {
   "cell_type": "code",
   "execution_count": 1,
   "metadata": {},
   "outputs": [
    {
     "ename": "NameError",
     "evalue": "name 'expr_mat' is not defined",
     "output_type": "error",
     "traceback": [
      "Traceback \u001b[0;36m(most recent call last)\u001b[0m:\n",
      "\u001b[0;36m  File \u001b[0;32m\"<ipython-input-1-66300a7d19a0>\"\u001b[0;36m, line \u001b[0;32m1\u001b[0;36m, in \u001b[0;35m<module>\u001b[0;36m\u001b[0m\n\u001b[0;31m    expr_mat.dtype\u001b[0m\n",
      "\u001b[0;31mNameError\u001b[0m\u001b[0;31m:\u001b[0m name 'expr_mat' is not defined\n"
     ]
    }
   ],
   "source": [
    "expr_mat.dtype"
   ]
  },
  {
   "cell_type": "code",
   "execution_count": 29,
   "metadata": {},
   "outputs": [
    {
     "data": {
      "text/plain": [
       "array([[1.5133606 , 0.        , 0.4478984 , ..., 0.        , 0.03887431,\n",
       "        0.06178029],\n",
       "       [1.5429174 , 0.        , 0.        , ..., 0.        , 0.01702229,\n",
       "        0.2957031 ],\n",
       "       [0.        , 0.        , 1.0783994 , ..., 0.        , 0.01941117,\n",
       "        1.8537823 ],\n",
       "       ...,\n",
       "       [0.        , 0.        , 0.        , ..., 0.        , 0.29471466,\n",
       "        0.        ],\n",
       "       [0.        , 0.        , 1.1453972 , ..., 0.        , 0.01723493,\n",
       "        0.        ],\n",
       "       [0.        , 0.        , 0.        , ..., 0.        , 0.02286556,\n",
       "        0.        ]], dtype=float32)"
      ]
     },
     "execution_count": 29,
     "metadata": {},
     "output_type": "execute_result"
    }
   ],
   "source": [
    "expr_mat"
   ]
  },
  {
   "cell_type": "code",
   "execution_count": 30,
   "metadata": {},
   "outputs": [],
   "source": [
    "model = torch.load('model.pth')"
   ]
  },
  {
   "cell_type": "code",
   "execution_count": 31,
   "metadata": {},
   "outputs": [],
   "source": [
    "data_tensor = torch.Tensor(std_expr_mat)\n",
    "targets_tensor = torch.Tensor(targets).long()\n",
    "train = torch.utils.data.TensorDataset(data_tensor, targets_tensor)\n",
    "train_loader = torch.utils.data.DataLoader(train, batch_size=1, shuffle=False)"
   ]
  },
  {
   "cell_type": "code",
   "execution_count": 32,
   "metadata": {},
   "outputs": [],
   "source": [
    "embeddings=get_embeddings(train_loader, expr_mat.shape[0], model, 500)"
   ]
  },
  {
   "cell_type": "code",
   "execution_count": 33,
   "metadata": {},
   "outputs": [
    {
     "data": {
      "text/plain": [
       "(4058, 500)"
      ]
     },
     "execution_count": 33,
     "metadata": {},
     "output_type": "execute_result"
    }
   ],
   "source": [
    "embeddings.shape"
   ]
  },
  {
   "cell_type": "code",
   "execution_count": 34,
   "metadata": {},
   "outputs": [],
   "source": [
    "np.savetxt('embeddings_clf.csv', embeddings, delimiter=',')"
   ]
  },
  {
   "cell_type": "code",
   "execution_count": 35,
   "metadata": {},
   "outputs": [],
   "source": [
    "embeddings=np.genfromtxt('embeddings_clf.csv',delimiter=',')"
   ]
  },
  {
   "cell_type": "code",
   "execution_count": 36,
   "metadata": {},
   "outputs": [],
   "source": [
    "import utils"
   ]
  },
  {
   "cell_type": "code",
   "execution_count": 37,
   "metadata": {},
   "outputs": [],
   "source": [
    "import pandas as pd\n",
    "df = pd.read_csv('../data_tisch2/Glioma_GSE102130_CellMetainfo_table.tsv', delimiter='\\t')"
   ]
  },
  {
   "cell_type": "code",
   "execution_count": 38,
   "metadata": {},
   "outputs": [],
   "source": [
    "targets=np.array(df['Cluster'])"
   ]
  },
  {
   "cell_type": "code",
   "execution_count": 39,
   "metadata": {},
   "outputs": [
    {
     "data": {
      "text/plain": [
       "(4058,)"
      ]
     },
     "execution_count": 39,
     "metadata": {},
     "output_type": "execute_result"
    }
   ],
   "source": [
    "targets.shape"
   ]
  },
  {
   "cell_type": "code",
   "execution_count": 58,
   "metadata": {},
   "outputs": [
    {
     "data": {
      "image/png": "[encoded data removed]",
      "text/plain": [
       "<Figure size 432x288 with 1 Axes>"
      ]
     },
     "metadata": {},
     "output_type": "display_data"
    }
   ],
   "source": [
    "utils.visualize_TSNE(embeddings, targets)"
   ]
  },
  {
   "cell_type": "code",
   "execution_count": 40,
   "metadata": {},
   "outputs": [
    {
     "data": {
      "image/png": "[encoded data removed]",
      "text/plain": [
       "<Figure size 864x432 with 1 Axes>"
      ]
     },
     "metadata": {},
     "output_type": "display_data"
    }
   ],
   "source": [
    "utils.visualize_UMAP(embeddings, targets)"
   ]
  },
  {
   "cell_type": "code",
   "execution_count": 94,
   "metadata": {},
   "outputs": [
    {
     "data": {
      "image/png": "[encoded data removed]",
      "text/plain": [
       "<Figure size 432x288 with 1 Axes>"
      ]
     },
     "metadata": {},
     "output_type": "display_data"
    }
   ],
   "source": [
    "utils.visualize_UMAP(expr_mat[:,:20], targets)"
   ]
  },
  {
   "cell_type": "code",
   "execution_count": 41,
   "metadata": {},
   "outputs": [
    {
     "data": {
      "text/plain": [
       "[1.4749762,\n",
       " -0.042144977,\n",
       " 0.16227765,\n",
       " -0.3971454,\n",
       " -0.17804542,\n",
       " -0.66591024,\n",
       " 1.2238691,\n",
       " -0.054372557,\n",
       " -0.5721694,\n",
       " 1.8914826]"
      ]
     },
     "execution_count": 41,
     "metadata": {},
     "output_type": "execute_result"
    }
   ],
   "source": [
    "list(std_expr_mat[0][:10])"
   ]
  },
  {
   "cell_type": "code",
   "execution_count": 96,
   "metadata": {},
   "outputs": [],
   "source": [
    "trainiter=iter(train_loader)"
   ]
  },
  {
   "cell_type": "code",
   "execution_count": 98,
   "metadata": {},
   "outputs": [
    {
     "data": {
      "text/plain": [
       "tensor([-0.7386, -0.7916, -0.5536, -0.8156, -0.7503, -0.6563, -0.9356, -0.8358,\n",
       "        -0.8783, -0.9825], grad_fn=<SliceBackward>)"
      ]
     },
     "execution_count": 98,
     "metadata": {},
     "output_type": "execute_result"
    }
   ],
   "source": [
    "model(torch.Tensor(std_expr_mat[0]))[:10]"
   ]
  },
  {
   "cell_type": "code",
   "execution_count": 99,
   "metadata": {},
   "outputs": [
    {
     "data": {
      "text/plain": [
       "array([3, 2])"
      ]
     },
     "execution_count": 99,
     "metadata": {},
     "output_type": "execute_result"
    }
   ],
   "source": [
    "np.max([[1,2],[3,1]], axis=0)"
   ]
  },
  {
   "cell_type": "code",
   "execution_count": 59,
   "metadata": {},
   "outputs": [],
   "source": [
    "import autoencoder"
   ]
  },
  {
   "cell_type": "code",
   "execution_count": 61,
   "metadata": {},
   "outputs": [
    {
     "data": {
      "text/plain": [
       "array([[-1.,  1.],\n",
       "       [ 1., -1.]])"
      ]
     },
     "execution_count": 61,
     "metadata": {},
     "output_type": "execute_result"
    }
   ],
   "source": [
    "autoencoder.min_max_normalisation([[1,2],[3,1]], e=0)"
   ]
  },
  {
   "cell_type": "code",
   "execution_count": 65,
   "metadata": {},
   "outputs": [
    {
     "data": {
      "text/plain": [
       "array([[1.5133606 , 0.        , 0.4478984 , ..., 0.        , 0.03887431,\n",
       "        0.06178029],\n",
       "       [1.5429174 , 0.        , 0.        , ..., 0.        , 0.01702229,\n",
       "        0.2957031 ],\n",
       "       [0.        , 0.        , 1.0783994 , ..., 0.        , 0.01941117,\n",
       "        1.8537823 ],\n",
       "       ...,\n",
       "       [0.        , 0.        , 0.        , ..., 0.        , 0.29471466,\n",
       "        0.        ],\n",
       "       [0.        , 0.        , 1.1453972 , ..., 0.        , 0.01723493,\n",
       "        0.        ],\n",
       "       [0.        , 0.        , 0.        , ..., 0.        , 0.02286556,\n",
       "        0.        ]], dtype=float32)"
      ]
     },
     "execution_count": 65,
     "metadata": {},
     "output_type": "execute_result"
    }
   ],
   "source": [
    "expr_mat"
   ]
  },
  {
   "cell_type": "code",
   "execution_count": 66,
   "metadata": {},
   "outputs": [],
   "source": [
    "import seaborn"
   ]
  },
  {
   "cell_type": "code",
   "execution_count": 50,
   "metadata": {},
   "outputs": [],
   "source": [
    "import matplotlib.pyplot as plt"
   ]
  },
  {
   "cell_type": "code",
   "execution_count": 54,
   "metadata": {},
   "outputs": [],
   "source": [
    "X=np.quantile(expr_mat, 0.70, axis=0)"
   ]
  },
  {
   "cell_type": "code",
   "execution_count": 55,
   "metadata": {},
   "outputs": [
    {
     "data": {
      "text/plain": [
       "(10232,)"
      ]
     },
     "execution_count": 55,
     "metadata": {},
     "output_type": "execute_result"
    }
   ],
   "source": [
    "X.shape"
   ]
  },
  {
   "cell_type": "code",
   "execution_count": 56,
   "metadata": {},
   "outputs": [
    {
     "data": {
      "text/plain": [
       "4991"
      ]
     },
     "execution_count": 56,
     "metadata": {},
     "output_type": "execute_result"
    }
   ],
   "source": [
    "np.sum(X>0)"
   ]
  },
  {
   "cell_type": "code",
   "execution_count": 49,
   "metadata": {},
   "outputs": [
    {
     "ename": "NameError",
     "evalue": "name 'plt' is not defined",
     "output_type": "error",
     "traceback": [
      "Traceback \u001b[0;36m(most recent call last)\u001b[0m:\n",
      "\u001b[0;36m  File \u001b[0;32m\"<ipython-input-49-0d5c17854839>\"\u001b[0;36m, line \u001b[0;32m1\u001b[0;36m, in \u001b[0;35m<module>\u001b[0;36m\u001b[0m\n\u001b[0;31m    plt.hist(np.median(expr_mat, axis=0), bins=25)\u001b[0m\n",
      "\u001b[0;31mNameError\u001b[0m\u001b[0;31m:\u001b[0m name 'plt' is not defined\n"
     ]
    }
   ],
   "source": [
    "plt.hist(np.median(expr_mat, axis=0), bins=25)"
   ]
  },
  {
   "cell_type": "code",
   "execution_count": 59,
   "metadata": {},
   "outputs": [],
   "source": [
    "from utils import *"
   ]
  },
  {
   "cell_type": "code",
   "execution_count": 61,
   "metadata": {},
   "outputs": [],
   "source": [
    "sel_expr_mat = quantile_columns(expr_mat, p=0.7)"
   ]
  },
  {
   "cell_type": "code",
   "execution_count": 62,
   "metadata": {},
   "outputs": [
    {
     "data": {
      "text/plain": [
       "(4058, 4407)"
      ]
     },
     "execution_count": 62,
     "metadata": {},
     "output_type": "execute_result"
    }
   ],
   "source": [
    "sel_expr_mat.shape"
   ]
  },
  {
   "cell_type": "code",
   "execution_count": 63,
   "metadata": {},
   "outputs": [
    {
     "data": {
      "text/plain": [
       "array([[0.4478984 , 0.01111842, 1.6635374 , ..., 0.        , 0.03887431,\n",
       "        0.06178029],\n",
       "       [0.        , 0.01171506, 1.3791659 , ..., 0.        , 0.01702229,\n",
       "        0.2957031 ],\n",
       "       [1.0783994 , 0.01961036, 0.        , ..., 0.3696746 , 0.01941117,\n",
       "        1.8537823 ],\n",
       "       ...,\n",
       "       [0.        , 0.02510464, 0.49591047, ..., 0.        , 0.29471466,\n",
       "        0.        ],\n",
       "       [1.1453972 , 0.03269437, 0.        , ..., 0.30066293, 0.01723493,\n",
       "        0.        ],\n",
       "       [0.        , 0.07092319, 0.5992879 , ..., 0.        , 0.02286556,\n",
       "        0.        ]], dtype=float32)"
      ]
     },
     "execution_count": 63,
     "metadata": {},
     "output_type": "execute_result"
    }
   ],
   "source": [
    "sel_expr_mat"
   ]
  },
  {
   "cell_type": "code",
   "execution_count": 22,
   "metadata": {},
   "outputs": [],
   "source": [
    "from sklearn.decomposition import PCA"
   ]
  },
  {
   "cell_type": "code",
   "execution_count": 23,
   "metadata": {},
   "outputs": [],
   "source": [
    "pca = PCA(n_components=2000)"
   ]
  },
  {
   "cell_type": "code",
   "execution_count": 24,
   "metadata": {},
   "outputs": [
    {
     "data": {
      "text/plain": [
       "(4058, 10232)"
      ]
     },
     "execution_count": 24,
     "metadata": {},
     "output_type": "execute_result"
    }
   ],
   "source": [
    "expr_mat.shape"
   ]
  },
  {
   "cell_type": "code",
   "execution_count": 25,
   "metadata": {},
   "outputs": [],
   "source": [
    "X=pca.fit_transform(expr_mat)"
   ]
  },
  {
   "cell_type": "code",
   "execution_count": 26,
   "metadata": {},
   "outputs": [
    {
     "data": {
      "text/plain": [
       "array([[14.899913  , -5.419706  ,  1.5992442 , ..., -0.13282345,\n",
       "         0.22226174,  0.072905  ],\n",
       "       [ 9.413621  , -6.5892544 , -0.23341058, ...,  0.35456422,\n",
       "        -0.5500698 , -0.39488977],\n",
       "       [ 3.2448945 , -4.1533613 ,  1.0535736 , ..., -0.33088392,\n",
       "        -0.365828  ,  0.24005318],\n",
       "       ...,\n",
       "       [11.368613  ,  3.8299441 , -3.347306  , ...,  0.0835629 ,\n",
       "        -0.0948439 ,  0.1133879 ],\n",
       "       [10.042997  ,  3.8738775 , -5.67287   , ..., -0.46724835,\n",
       "        -0.20675531, -0.23347908],\n",
       "       [12.160526  ,  6.9754286 ,  2.085334  , ...,  0.14450808,\n",
       "        -0.13302524,  0.26350793]], dtype=float32)"
      ]
     },
     "execution_count": 26,
     "metadata": {},
     "output_type": "execute_result"
    }
   ],
   "source": [
    "X"
   ]
  },
  {
   "cell_type": "code",
   "execution_count": 27,
   "metadata": {},
   "outputs": [
    {
     "data": {
      "text/plain": [
       "(4058, 2000)"
      ]
     },
     "execution_count": 27,
     "metadata": {},
     "output_type": "execute_result"
    }
   ],
   "source": [
    "X.shape"
   ]
  },
  {
   "cell_type": "code",
   "execution_count": 30,
   "metadata": {},
   "outputs": [
    {
     "data": {
      "text/plain": [
       "<matplotlib.collections.PathCollection at 0x7fc04254d828>"
      ]
     },
     "execution_count": 30,
     "metadata": {},
     "output_type": "execute_result"
    },
    {
     "data": {
      "image/png": "[encoded data removed]",
      "text/plain": [
       "<Figure size 432x288 with 1 Axes>"
      ]
     },
     "metadata": {},
     "output_type": "display_data"
    }
   ],
   "source": [
    "plt.scatter(range(0,2000),pca.explained_variance_ratio_)"
   ]
  },
  {
   "cell_type": "code",
   "execution_count": 31,
   "metadata": {},
   "outputs": [
    {
     "data": {
      "text/plain": [
       "0.9094497"
      ]
     },
     "execution_count": 31,
     "metadata": {},
     "output_type": "execute_result"
    }
   ],
   "source": [
    "np.sum(pca.explained_variance_ratio_)"
   ]
  },
  {
   "cell_type": "code",
   "execution_count": 37,
   "metadata": {},
   "outputs": [
    {
     "data": {
      "image/png": "[encoded data removed]",
      "text/plain": [
       "<Figure size 864x432 with 1 Axes>"
      ]
     },
     "metadata": {},
     "output_type": "display_data"
    }
   ],
   "source": [
    "visualize_UMAP(X, targets)"
   ]
  },
  {
   "cell_type": "code",
   "execution_count": null,
   "metadata": {},
   "outputs": [],
   "source": []
  }
 ],
 "metadata": {
  "kernelspec": {
   "display_name": "Python 3 (Spyder)",
   "language": "python3",
   "name": "python3"
  },
  "language_info": {
   "codemirror_mode": {
    "name": "ipython",
    "version": 3
   },
   "file_extension": ".py",
   "mimetype": "text/x-python",
   "name": "python",
   "nbconvert_exporter": "python",
   "pygments_lexer": "ipython3",
   "version": "3.6.9"
  }
 },
 "nbformat": 4,
 "nbformat_minor": 4
}
