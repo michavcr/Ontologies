{
 "cells": [
  {
   "cell_type": "code",
   "execution_count": 1,
   "metadata": {},
   "outputs": [],
   "source": [
    "import os\n",
    "import sys\n",
    "sys.path.append(os.path.join('..', 'src'))\n",
    "import pandas as pd\n",
    "import numpy as np\n",
    "import matplotlib.pyplot as plt\n",
    "from genes_annotations import *\n",
    "from autoencoder import *\n",
    "from utils import *"
   ]
  },
  {
   "cell_type": "code",
   "execution_count": 2,
   "metadata": {},
   "outputs": [],
   "source": [
    "filename = \"../data_tisch2/Glioma_GSE102130_expression.h5\"\n",
    "\n",
    "h5 = read_h5(filename)\n",
    "\n",
    "selected_genes = get_all_genes(h5)"
   ]
  },
  {
   "cell_type": "code",
   "execution_count": 3,
   "metadata": {},
   "outputs": [
    {
     "name": "stdout",
     "output_type": "stream",
     "text": [
      "HMS:0:00:08.504972 606,840 annotations READ: ../goa_human.gaf \n",
      "../go.obo: fmt(1.2) rel(2021-02-01) 50,515 GO Terms; optional_attrs(consider replaced_by)\n"
     ]
    }
   ],
   "source": [
    "genes_go, all_go, all_genes = get_all_gene_annotations(h5)"
   ]
  },
  {
   "cell_type": "code",
   "execution_count": 4,
   "metadata": {},
   "outputs": [],
   "source": [
    "mask = build_mask(h5,genes_go,all_go,all_genes)"
   ]
  },
  {
   "cell_type": "code",
   "execution_count": 5,
   "metadata": {},
   "outputs": [
    {
     "name": "stdout",
     "output_type": "stream",
     "text": [
      "'build_expr_mat'  425.75 ms\n",
      "'select_gene_expr_v2'  331.06 ms\n"
     ]
    }
   ],
   "source": [
    "expr_mat = build_expr_mat(h5)\n",
    "expr_mat = select_gene_expr_v2(h5, expr_mat, all_genes)"
   ]
  },
  {
   "cell_type": "markdown",
   "metadata": {},
   "source": [
    "### Récupérer les labels"
   ]
  },
  {
   "cell_type": "code",
   "execution_count": 6,
   "metadata": {},
   "outputs": [],
   "source": [
    "df = pd.read_csv('../data_tisch2/Glioma_GSE102130_CellMetainfo_table.tsv', delimiter='\\t')\n",
    "targets = np.array(df['Cluster'])\n",
    "N_classes = targets.max()+1"
   ]
  },
  {
   "cell_type": "code",
   "execution_count": 7,
   "metadata": {},
   "outputs": [
    {
     "data": {
      "text/plain": [
       "488"
      ]
     },
     "execution_count": 7,
     "metadata": {},
     "output_type": "execute_result"
    }
   ],
   "source": [
    "np.sum(targets==1)"
   ]
  },
  {
   "cell_type": "markdown",
   "metadata": {},
   "source": [
    "### Entrainement sur le groupe 0"
   ]
  },
  {
   "cell_type": "code",
   "execution_count": 8,
   "metadata": {},
   "outputs": [],
   "source": [
    "dataset0 = expr_mat[targets==0, :]"
   ]
  },
  {
   "cell_type": "code",
   "execution_count": 10,
   "metadata": {},
   "outputs": [
    {
     "name": "stdout",
     "output_type": "stream",
     "text": [
      "----------------------------------------------------------------\n",
      "        Layer (type)               Output Shape         Param #\n",
      "================================================================\n",
      "              Tanh-1              [-1, 1, 1414]               0\n",
      "      MaskedLinear-2              [-1, 1, 1414]               0\n",
      "            Linear-3               [-1, 1, 500]         707,500\n",
      "              Tanh-4               [-1, 1, 500]               0\n",
      "            Linear-5              [-1, 1, 1414]         708,414\n",
      "              Tanh-6              [-1, 1, 1414]               0\n",
      "              Tanh-7             [-1, 1, 10232]               0\n",
      "      MaskedLinear-8             [-1, 1, 10232]               0\n",
      "================================================================\n",
      "Total params: 1,415,914\n",
      "Trainable params: 1,415,914\n",
      "Non-trainable params: 0\n",
      "----------------------------------------------------------------\n",
      "Input size (MB): 0.04\n",
      "Forward/backward pass size (MB): 0.21\n",
      "Params size (MB): 5.40\n",
      "Estimated Total Size (MB): 5.65\n",
      "----------------------------------------------------------------\n",
      "[1,     1] loss: 0.90583\n",
      "[1,   101] loss: 0.75371\n",
      "[2,     1] loss: 0.71798\n",
      "[2,   101] loss: 0.67096\n",
      "[3,     1] loss: 0.66169\n",
      "[3,   101] loss: 0.60495\n",
      "[4,     1] loss: 0.59161\n",
      "[4,   101] loss: 0.52796\n",
      "[5,     1] loss: 0.51633\n",
      "[5,   101] loss: 0.44949\n",
      "[6,     1] loss: 0.44231\n",
      "[6,   101] loss: 0.37756\n",
      "[7,     1] loss: 0.37863\n",
      "[7,   101] loss: 0.31654\n",
      "[8,     1] loss: 0.32508\n",
      "[8,   101] loss: 0.26628\n",
      "[9,     1] loss: 0.28122\n",
      "[9,   101] loss: 0.22522\n",
      "[10,     1] loss: 0.24553\n",
      "[10,   101] loss: 0.19230\n",
      "[11,     1] loss: 0.21783\n",
      "[11,   101] loss: 0.16776\n",
      "[12,     1] loss: 0.19761\n",
      "[12,   101] loss: 0.14959\n",
      "[13,     1] loss: 0.18247\n",
      "[13,   101] loss: 0.13611\n",
      "[14,     1] loss: 0.17093\n",
      "[14,   101] loss: 0.12572\n",
      "[15,     1] loss: 0.16215\n",
      "[15,   101] loss: 0.11768\n",
      "[16,     1] loss: 0.15522\n",
      "[16,   101] loss: 0.11142\n",
      "[17,     1] loss: 0.14987\n",
      "[17,   101] loss: 0.10657\n",
      "[18,     1] loss: 0.14568\n",
      "[18,   101] loss: 0.10269\n",
      "[19,     1] loss: 0.14237\n",
      "[19,   101] loss: 0.09949\n",
      "[20,     1] loss: 0.13939\n",
      "[20,   101] loss: 0.09689\n",
      "[21,     1] loss: 0.13701\n",
      "[21,   101] loss: 0.09477\n",
      "[22,     1] loss: 0.13529\n",
      "[22,   101] loss: 0.09307\n",
      "[23,     1] loss: 0.13341\n",
      "[23,   101] loss: 0.09146\n",
      "[24,     1] loss: 0.13210\n",
      "[24,   101] loss: 0.09020\n",
      "[25,     1] loss: 0.13091\n",
      "[25,   101] loss: 0.08896\n",
      "[26,     1] loss: 0.12981\n",
      "[26,   101] loss: 0.08804\n",
      "[27,     1] loss: 0.12916\n",
      "[27,   101] loss: 0.08732\n",
      "[28,     1] loss: 0.12845\n",
      "[28,   101] loss: 0.08679\n",
      "[29,     1] loss: 0.12796\n",
      "[29,   101] loss: 0.08627\n",
      "[30,     1] loss: 0.12765\n",
      "[30,   101] loss: 0.08583\n",
      "[31,     1] loss: 0.12714\n",
      "[31,   101] loss: 0.08544\n",
      "[32,     1] loss: 0.12677\n",
      "[32,   101] loss: 0.08506\n",
      "[33,     1] loss: 0.12659\n",
      "[33,   101] loss: 0.08479\n",
      "[34,     1] loss: 0.12641\n",
      "[34,   101] loss: 0.08450\n",
      "[35,     1] loss: 0.12598\n",
      "[35,   101] loss: 0.08425\n",
      "[36,     1] loss: 0.12550\n",
      "[36,   101] loss: 0.08396\n",
      "[37,     1] loss: 0.12534\n",
      "[37,   101] loss: 0.08371\n",
      "[38,     1] loss: 0.12519\n",
      "[38,   101] loss: 0.08353\n",
      "[39,     1] loss: 0.12486\n",
      "[39,   101] loss: 0.08331\n",
      "[40,     1] loss: 0.12459\n",
      "[40,   101] loss: 0.08291\n",
      "[41,     1] loss: 0.12427\n",
      "[41,   101] loss: 0.08249\n",
      "[42,     1] loss: 0.12377\n",
      "[42,   101] loss: 0.08224\n",
      "[43,     1] loss: 0.12359\n",
      "[43,   101] loss: 0.08205\n",
      "[44,     1] loss: 0.12352\n",
      "[44,   101] loss: 0.08194\n",
      "[45,     1] loss: 0.12303\n",
      "[45,   101] loss: 0.08180\n",
      "[46,     1] loss: 0.12303\n",
      "[46,   101] loss: 0.08164\n",
      "[47,     1] loss: 0.12286\n",
      "[47,   101] loss: 0.08152\n",
      "[48,     1] loss: 0.12246\n",
      "[48,   101] loss: 0.08137\n",
      "[49,     1] loss: 0.12222\n",
      "[49,   101] loss: 0.08169\n",
      "[50,     1] loss: 0.12330\n",
      "[50,   101] loss: 0.08157\n",
      "[51,     1] loss: 0.12227\n",
      "[51,   101] loss: 0.08129\n",
      "[52,     1] loss: 0.12197\n",
      "[52,   101] loss: 0.08117\n",
      "[53,     1] loss: 0.12196\n",
      "[53,   101] loss: 0.08108\n",
      "[54,     1] loss: 0.12187\n",
      "[54,   101] loss: 0.08099\n",
      "[55,     1] loss: 0.12174\n",
      "[55,   101] loss: 0.08092\n",
      "[56,     1] loss: 0.12176\n",
      "[56,   101] loss: 0.08082\n",
      "[57,     1] loss: 0.12151\n",
      "[57,   101] loss: 0.08076\n",
      "[58,     1] loss: 0.12120\n",
      "[58,   101] loss: 0.08068\n",
      "[59,     1] loss: 0.12111\n",
      "[59,   101] loss: 0.08060\n",
      "[60,     1] loss: 0.12093\n",
      "[60,   101] loss: 0.08049\n",
      "[61,     1] loss: 0.12101\n",
      "[61,   101] loss: 0.08045\n",
      "[62,     1] loss: 0.12086\n",
      "[62,   101] loss: 0.08036\n",
      "[63,     1] loss: 0.12070\n",
      "[63,   101] loss: 0.08031\n",
      "[64,     1] loss: 0.12054\n",
      "[64,   101] loss: 0.08025\n",
      "[65,     1] loss: 0.12039\n",
      "[65,   101] loss: 0.08024\n",
      "[66,     1] loss: 0.12025\n",
      "[66,   101] loss: 0.08020\n",
      "[67,     1] loss: 0.12053\n",
      "[67,   101] loss: 0.08013\n",
      "[68,     1] loss: 0.12027\n",
      "[68,   101] loss: 0.08001\n",
      "[69,     1] loss: 0.12022\n",
      "[69,   101] loss: 0.07988\n",
      "[70,     1] loss: 0.12026\n",
      "[70,   101] loss: 0.07988\n",
      "[71,     1] loss: 0.12029\n",
      "[71,   101] loss: 0.07986\n",
      "[72,     1] loss: 0.12061\n",
      "[72,   101] loss: 0.07977\n",
      "[73,     1] loss: 0.12031\n",
      "[73,   101] loss: 0.07971\n",
      "[74,     1] loss: 0.12022\n",
      "[74,   101] loss: 0.07967\n",
      "[75,     1] loss: 0.11998\n",
      "[75,   101] loss: 0.07967\n",
      "[76,     1] loss: 0.11997\n",
      "[76,   101] loss: 0.07943\n",
      "[77,     1] loss: 0.11951\n",
      "[77,   101] loss: 0.07928\n",
      "[78,     1] loss: 0.11944\n",
      "[78,   101] loss: 0.07921\n",
      "[79,     1] loss: 0.11927\n",
      "[79,   101] loss: 0.07912\n",
      "[80,     1] loss: 0.11923\n",
      "[80,   101] loss: 0.07905\n",
      "[81,     1] loss: 0.11913\n",
      "[81,   101] loss: 0.07904\n",
      "[82,     1] loss: 0.12192\n",
      "[82,   101] loss: 0.07904\n",
      "[83,     1] loss: 0.11931\n",
      "[83,   101] loss: 0.07903\n",
      "[84,     1] loss: 0.11904\n",
      "[84,   101] loss: 0.07890\n",
      "[85,     1] loss: 0.11911\n",
      "[85,   101] loss: 0.07890\n",
      "[86,     1] loss: 0.11886\n",
      "[86,   101] loss: 0.07883\n",
      "[87,     1] loss: 0.11894\n",
      "[87,   101] loss: 0.07879\n",
      "[88,     1] loss: 0.11881\n",
      "[88,   101] loss: 0.07874\n",
      "[89,     1] loss: 0.11873\n",
      "[89,   101] loss: 0.07872\n",
      "[90,     1] loss: 0.11853\n",
      "[90,   101] loss: 0.07865\n",
      "[91,     1] loss: 0.11860\n",
      "[91,   101] loss: 0.07869\n",
      "[92,     1] loss: 0.11863\n",
      "[92,   101] loss: 0.07860\n",
      "[93,     1] loss: 0.11843\n",
      "[93,   101] loss: 0.07859\n",
      "[94,     1] loss: 0.11847\n",
      "[94,   101] loss: 0.07858\n",
      "[95,     1] loss: 0.11854\n",
      "[95,   101] loss: 0.07853\n",
      "[96,     1] loss: 0.11840\n",
      "[96,   101] loss: 0.07851\n",
      "[97,     1] loss: 0.11901\n",
      "[97,   101] loss: 0.07845\n",
      "[98,     1] loss: 0.11850\n",
      "[98,   101] loss: 0.07842\n",
      "[99,     1] loss: 0.11845\n",
      "[99,   101] loss: 0.07842\n",
      "[100,     1] loss: 0.11845\n",
      "[100,   101] loss: 0.07846\n",
      "Finished Training\n",
      "'ae_pipeline'  3708908.95 ms\n"
     ]
    }
   ],
   "source": [
    "ae0, train_loader0, embeddings0 = ae_pipeline(mask, dataset0, all_genes, all_go, n_epochs=100, batch_size=5, print_loss=100, output_file='model_0.pth', embed_file='embeddings_ae_0.csv')"
   ]
  },
  {
   "cell_type": "markdown",
   "metadata": {},
   "source": [
    "### Entrainement sur le groupe 1"
   ]
  },
  {
   "cell_type": "code",
   "execution_count": 11,
   "metadata": {},
   "outputs": [],
   "source": [
    "dataset1= expr_mat[targets==1, :]"
   ]
  },
  {
   "cell_type": "code",
   "execution_count": 12,
   "metadata": {},
   "outputs": [
    {
     "name": "stdout",
     "output_type": "stream",
     "text": [
      "----------------------------------------------------------------\n",
      "        Layer (type)               Output Shape         Param #\n",
      "================================================================\n",
      "              Tanh-1              [-1, 1, 1414]               0\n",
      "      MaskedLinear-2              [-1, 1, 1414]               0\n",
      "            Linear-3               [-1, 1, 500]         707,500\n",
      "              Tanh-4               [-1, 1, 500]               0\n",
      "            Linear-5              [-1, 1, 1414]         708,414\n",
      "              Tanh-6              [-1, 1, 1414]               0\n",
      "              Tanh-7             [-1, 1, 10232]               0\n",
      "      MaskedLinear-8             [-1, 1, 10232]               0\n",
      "================================================================\n",
      "Total params: 1,415,914\n",
      "Trainable params: 1,415,914\n",
      "Non-trainable params: 0\n",
      "----------------------------------------------------------------\n",
      "Input size (MB): 0.04\n",
      "Forward/backward pass size (MB): 0.21\n",
      "Params size (MB): 5.40\n",
      "Estimated Total Size (MB): 5.65\n",
      "----------------------------------------------------------------\n",
      "[1,     1] loss: 0.97335\n",
      "[2,     1] loss: 0.80225\n",
      "[3,     1] loss: 0.73367\n",
      "[4,     1] loss: 0.64872\n",
      "[5,     1] loss: 0.55694\n",
      "[6,     1] loss: 0.46964\n",
      "[7,     1] loss: 0.39825\n",
      "[8,     1] loss: 0.33939\n",
      "[9,     1] loss: 0.29118\n",
      "[10,     1] loss: 0.25344\n",
      "[11,     1] loss: 0.22390\n",
      "[12,     1] loss: 0.20068\n",
      "[13,     1] loss: 0.18261\n",
      "[14,     1] loss: 0.16845\n",
      "[15,     1] loss: 0.15691\n",
      "[16,     1] loss: 0.14772\n",
      "[17,     1] loss: 0.14054\n",
      "[18,     1] loss: 0.13482\n",
      "[19,     1] loss: 0.13019\n",
      "[20,     1] loss: 0.12650\n",
      "[21,     1] loss: 0.12351\n",
      "[22,     1] loss: 0.12102\n",
      "[23,     1] loss: 0.11895\n",
      "[24,     1] loss: 0.11726\n",
      "[25,     1] loss: 0.11562\n",
      "[26,     1] loss: 0.11419\n",
      "[27,     1] loss: 0.11322\n",
      "[28,     1] loss: 0.11234\n",
      "[29,     1] loss: 0.11162\n",
      "[30,     1] loss: 0.11085\n",
      "[31,     1] loss: 0.11017\n",
      "[32,     1] loss: 0.10964\n",
      "[33,     1] loss: 0.10923\n",
      "[34,     1] loss: 0.10887\n",
      "[35,     1] loss: 0.10844\n",
      "[36,     1] loss: 0.10825\n",
      "[37,     1] loss: 0.10781\n",
      "[38,     1] loss: 0.10733\n",
      "[39,     1] loss: 0.10699\n",
      "[40,     1] loss: 0.10688\n",
      "[41,     1] loss: 0.10692\n",
      "[42,     1] loss: 0.10647\n",
      "[43,     1] loss: 0.10628\n",
      "[44,     1] loss: 0.10616\n",
      "[45,     1] loss: 0.10606\n",
      "[46,     1] loss: 0.10605\n",
      "[47,     1] loss: 0.10575\n",
      "[48,     1] loss: 0.10568\n",
      "[49,     1] loss: 0.10559\n",
      "[50,     1] loss: 0.10533\n",
      "[51,     1] loss: 0.10526\n",
      "[52,     1] loss: 0.10523\n",
      "[53,     1] loss: 0.10514\n",
      "[54,     1] loss: 0.10499\n",
      "[55,     1] loss: 0.10499\n",
      "[56,     1] loss: 0.10497\n",
      "[57,     1] loss: 0.10491\n",
      "[58,     1] loss: 0.10470\n",
      "[59,     1] loss: 0.10448\n",
      "[60,     1] loss: 0.10462\n",
      "[61,     1] loss: 0.10458\n",
      "[62,     1] loss: 0.10455\n",
      "[63,     1] loss: 0.10433\n",
      "[64,     1] loss: 0.10425\n",
      "[65,     1] loss: 0.10414\n",
      "[66,     1] loss: 0.10425\n",
      "[67,     1] loss: 0.10425\n",
      "[68,     1] loss: 0.10418\n",
      "[69,     1] loss: 0.10410\n",
      "[70,     1] loss: 0.10389\n",
      "[71,     1] loss: 0.10387\n",
      "[72,     1] loss: 0.10379\n",
      "[73,     1] loss: 0.10376\n",
      "[74,     1] loss: 0.10360\n",
      "[75,     1] loss: 0.10349\n",
      "Finished Training\n",
      "'ae_pipeline'  2549190.71 ms\n"
     ]
    }
   ],
   "source": [
    "ae1, train_loader1, embeddings1 = ae_pipeline(mask, dataset1, all_genes, all_go, n_epochs=75, batch_size=5, print_loss=100, output_file='model_1.pth', embed_file='embeddings_ae_1.csv')"
   ]
  },
  {
   "cell_type": "code",
   "execution_count": 10,
   "metadata": {},
   "outputs": [
    {
     "data": {
      "text/plain": [
       "GeneAutoEncoder(\n",
       "  (encoder): Sequential(\n",
       "    (0): MaskedLinear(\n",
       "      (activation): Tanh()\n",
       "    )\n",
       "    (1): Linear(in_features=1414, out_features=500, bias=True)\n",
       "    (2): Tanh()\n",
       "  )\n",
       "  (decoder): Sequential(\n",
       "    (0): Linear(in_features=500, out_features=1414, bias=True)\n",
       "    (1): Tanh()\n",
       "    (2): MaskedLinear(\n",
       "      (activation): Tanh()\n",
       "    )\n",
       "  )\n",
       ")"
      ]
     },
     "execution_count": 10,
     "metadata": {},
     "output_type": "execute_result"
    }
   ],
   "source": [
    "ae0"
   ]
  },
  {
   "cell_type": "code",
   "execution_count": 34,
   "metadata": {},
   "outputs": [
    {
     "data": {
      "text/plain": [
       "[('TBXT', 1.3344258069992065),\n",
       " ('SMO', 1.3265795707702637),\n",
       " ('TBX19', 1.1676260232925415),\n",
       " ('EOMES', 0.9587002992630005),\n",
       " ('TBX4', 0.8970722556114197),\n",
       " ('TBR1', 0.8322638869285583),\n",
       " ('TBX2', 0.7771263122558594),\n",
       " ('TBX1', 0.7703359127044678),\n",
       " ('TBX3', 0.6920588612556458),\n",
       " ('TBX10', 0.6038128733634949),\n",
       " ('NOTCH1', 0.3189584016799927),\n",
       " ('TBX15', 0.09548897296190262),\n",
       " ('APC2', -0.10250582545995712),\n",
       " ('APC', -0.33649662137031555),\n",
       " ('PRDM14', -0.7197322845458984),\n",
       " ('TBX21', -0.7427435517311096),\n",
       " ('CDON', -0.8807424306869507),\n",
       " ('TBX18', -0.8862106204032898),\n",
       " ('DHH', -0.8881945013999939),\n",
       " ('MGA', -1.0910060405731201),\n",
       " ('PSEN1', -1.1790727376937866),\n",
       " ('FKBP8', -1.184144139289856),\n",
       " ('TBX6', -1.246217966079712),\n",
       " ('SOX9', -1.406280755996704),\n",
       " ('TBX5', -1.6267459392547607)]"
      ]
     },
     "execution_count": 34,
     "metadata": {},
     "output_type": "execute_result"
    }
   ],
   "source": [
    "ae0.get_sorted_genes(45)"
   ]
  },
  {
   "cell_type": "code",
   "execution_count": 28,
   "metadata": {},
   "outputs": [
    {
     "data": {
      "text/plain": [
       "tensor([[ 0.0200, -0.0731,  0.1153,  ..., -1.0692,  0.6816,  0.9931],\n",
       "        [-0.4616, -1.7603,  1.0751,  ...,  0.0207,  1.5827,  1.3610],\n",
       "        [-1.0472,  0.7226,  1.6309,  ...,  0.7128,  0.2539, -0.1556],\n",
       "        ...,\n",
       "        [ 0.1760,  1.3726, -1.5686,  ...,  2.5391,  0.2645,  1.0555],\n",
       "        [-0.6496,  1.4782, -0.7362,  ..., -0.5032, -0.4651,  0.5863],\n",
       "        [ 0.1403, -0.8721,  0.3371,  ..., -0.6045,  0.4757, -0.1975]])"
      ]
     },
     "execution_count": 28,
     "metadata": {},
     "output_type": "execute_result"
    }
   ],
   "source": [
    "ae0.encoder[0].W.detach()"
   ]
  },
  {
   "cell_type": "code",
   "execution_count": 33,
   "metadata": {},
   "outputs": [
    {
     "data": {
      "text/plain": [
       "'GO:0000149'"
      ]
     },
     "execution_count": 33,
     "metadata": {},
     "output_type": "execute_result"
    }
   ],
   "source": [
    "all_go[2]"
   ]
  },
  {
   "cell_type": "code",
   "execution_count": 24,
   "metadata": {},
   "outputs": [],
   "source": [
    "#i=all_genes.index('TFEB')\n",
    "i=42"
   ]
  },
  {
   "cell_type": "code",
   "execution_count": 25,
   "metadata": {},
   "outputs": [
    {
     "data": {
      "text/plain": [
       "[('GO:0008474', 1.3336516618728638)]"
      ]
     },
     "execution_count": 25,
     "metadata": {},
     "output_type": "execute_result"
    }
   ],
   "source": [
    "ae0.get_sorted_terms(50)"
   ]
  },
  {
   "cell_type": "code",
   "execution_count": 26,
   "metadata": {},
   "outputs": [
    {
     "data": {
      "text/plain": [
       "{'GO:0007588': 0.3298877477645874,\n",
       " 'GO:0042493': 0.2823418378829956,\n",
       " 'GO:0038183': -0.1788444072008133,\n",
       " 'GO:0014850': -0.9024333953857422,\n",
       " 'GO:0007584': -1.5098052024841309}"
      ]
     },
     "execution_count": 26,
     "metadata": {},
     "output_type": "execute_result"
    }
   ],
   "source": [
    "dict(ae1.get_sorted_terms(i))"
   ]
  },
  {
   "cell_type": "code",
   "execution_count": 27,
   "metadata": {},
   "outputs": [
    {
     "data": {
      "text/plain": [
       "{'GO:0038183': 0.48454126715660095,\n",
       " 'GO:0007588': -0.1464167684316635,\n",
       " 'GO:0014850': -0.39864134788513184,\n",
       " 'GO:0007584': -0.6353287100791931,\n",
       " 'GO:0042493': -1.172379732131958}"
      ]
     },
     "execution_count": 27,
     "metadata": {},
     "output_type": "execute_result"
    }
   ],
   "source": [
    "dict(ae0.get_sorted_terms(i))"
   ]
  },
  {
   "cell_type": "code",
   "execution_count": 54,
   "metadata": {},
   "outputs": [
    {
     "name": "stdout",
     "output_type": "stream",
     "text": [
      "../go.obo: fmt(1.2) rel(2021-02-01) 50,515 GO Terms; optional_attrs(consider replaced_by)\n"
     ]
    }
   ],
   "source": [
    "godag = GODag(\"../go.obo\", optional_attrs={'consider', 'replaced_by'}, load_obsolete=True)"
   ]
  },
  {
   "cell_type": "code",
   "execution_count": 57,
   "metadata": {},
   "outputs": [
    {
     "data": {
      "text/plain": [
       "'adaptive immune response'"
      ]
     },
     "execution_count": 57,
     "metadata": {},
     "output_type": "execute_result"
    }
   ],
   "source": [
    "godag['GO:0002250'].name"
   ]
  },
  {
   "cell_type": "code",
   "execution_count": 20,
   "metadata": {},
   "outputs": [
    {
     "name": "stdout",
     "output_type": "stream",
     "text": [
      "HMS:0:00:14.293889 606,840 annotations READ: ../goa_human.gaf \n",
      "../go.obo: fmt(1.2) rel(2021-02-01) 50,515 GO Terms; optional_attrs(consider replaced_by)\n"
     ]
    }
   ],
   "source": [
    "goterms=GOTerm()"
   ]
  },
  {
   "cell_type": "code",
   "execution_count": 21,
   "metadata": {},
   "outputs": [
    {
     "data": {
      "text/plain": [
       "'adaptive immune response'"
      ]
     },
     "execution_count": 21,
     "metadata": {},
     "output_type": "execute_result"
    }
   ],
   "source": [
    "goterms.get_go_name('GO:0002250')"
   ]
  },
  {
   "cell_type": "code",
   "execution_count": 28,
   "metadata": {},
   "outputs": [
    {
     "name": "stdout",
     "output_type": "stream",
     "text": [
      "bile acid signaling pathway 0.48454126715660095\n",
      "excretion -0.1464167684316635\n",
      "response to muscle activity -0.39864134788513184\n",
      "response to nutrient -0.6353287100791931\n",
      "response to drug -1.172379732131958\n"
     ]
    }
   ],
   "source": [
    "for t, v in ae0.get_sorted_terms(i):\n",
    "    print(goterms.get_go_name(t), v)"
   ]
  },
  {
   "cell_type": "code",
   "execution_count": 29,
   "metadata": {},
   "outputs": [
    {
     "name": "stdout",
     "output_type": "stream",
     "text": [
      "excretion 0.3298877477645874\n",
      "response to drug 0.2823418378829956\n",
      "bile acid signaling pathway -0.1788444072008133\n",
      "response to muscle activity -0.9024333953857422\n",
      "response to nutrient -1.5098052024841309\n"
     ]
    }
   ],
   "source": [
    "for t, v in ae1.get_sorted_terms(i):\n",
    "    print(goterms.get_go_name(t), v)"
   ]
  },
  {
   "cell_type": "code",
   "execution_count": null,
   "metadata": {},
   "outputs": [],
   "source": []
  }
 ],
 "metadata": {
  "kernelspec": {
   "display_name": "Python 3 (Spyder)",
   "language": "python3",
   "name": "python3"
  },
  "language_info": {
   "codemirror_mode": {
    "name": "ipython",
    "version": 3
   },
   "file_extension": ".py",
   "mimetype": "text/x-python",
   "name": "python",
   "nbconvert_exporter": "python",
   "pygments_lexer": "ipython3",
   "version": "3.6.9"
  }
 },
 "nbformat": 4,
 "nbformat_minor": 4
}
