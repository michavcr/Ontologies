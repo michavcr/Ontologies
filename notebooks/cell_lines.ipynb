{
 "cells": [
  {
   "cell_type": "code",
   "execution_count": 12,
   "metadata": {},
   "outputs": [],
   "source": [
    "import os\n",
    "import sys\n",
    "sys.path.append(os.path.join('..', 'src'))\n",
    "import pandas as pd\n",
    "import numpy as np\n",
    "import matplotlib.pyplot as plt\n",
    "from genes_annotations import *\n",
    "from autoencoder import *\n",
    "from utils import *"
   ]
  },
  {
   "cell_type": "code",
   "execution_count": 2,
   "metadata": {},
   "outputs": [],
   "source": [
    "filename = \"../data_tisch2/Glioma_GSE102130_expression.h5\"\n",
    "\n",
    "h5 = read_h5(filename)\n",
    "\n",
    "selected_genes = get_all_genes(h5)"
   ]
  },
  {
   "cell_type": "code",
   "execution_count": 3,
   "metadata": {},
   "outputs": [
    {
     "name": "stdout",
     "output_type": "stream",
     "text": [
      "HMS:0:00:08.412569 606,840 annotations READ: ../goa_human.gaf \n",
      "../go.obo: fmt(1.2) rel(2021-02-01) 50,515 GO Terms; optional_attrs(consider replaced_by)\n"
     ]
    }
   ],
   "source": [
    "genes_go, all_go, all_genes = get_all_gene_annotations(h5)"
   ]
  },
  {
   "cell_type": "code",
   "execution_count": 4,
   "metadata": {},
   "outputs": [],
   "source": [
    "mask = build_mask(h5,genes_go,all_go,all_genes)"
   ]
  },
  {
   "cell_type": "code",
   "execution_count": 5,
   "metadata": {},
   "outputs": [
    {
     "name": "stdout",
     "output_type": "stream",
     "text": [
      "'build_expr_mat'  442.62 ms\n",
      "'select_gene_expr_v2'  362.61 ms\n"
     ]
    }
   ],
   "source": [
    "expr_mat = build_expr_mat(h5)\n",
    "expr_mat = select_gene_expr_v2(h5, expr_mat, all_genes)"
   ]
  },
  {
   "cell_type": "markdown",
   "metadata": {},
   "source": [
    "### Récupérer les labels"
   ]
  },
  {
   "cell_type": "code",
   "execution_count": 6,
   "metadata": {},
   "outputs": [],
   "source": [
    "df = pd.read_csv('../data_tisch2/Glioma_GSE102130_CellMetainfo_table.tsv', delimiter='\\t')\n",
    "targets = np.array(df['Cluster'])\n",
    "N_classes = targets.max()+1"
   ]
  },
  {
   "cell_type": "code",
   "execution_count": 7,
   "metadata": {},
   "outputs": [
    {
     "data": {
      "text/plain": [
       "488"
      ]
     },
     "execution_count": 7,
     "metadata": {},
     "output_type": "execute_result"
    }
   ],
   "source": [
    "np.sum(targets==1)"
   ]
  },
  {
   "cell_type": "markdown",
   "metadata": {},
   "source": [
    "### Entrainement sur le groupe 0"
   ]
  },
  {
   "cell_type": "code",
   "execution_count": 8,
   "metadata": {},
   "outputs": [],
   "source": [
    "dataset0 = expr_mat[targets==0, :]"
   ]
  },
  {
   "cell_type": "code",
   "execution_count": 18,
   "metadata": {},
   "outputs": [
    {
     "name": "stdout",
     "output_type": "stream",
     "text": [
      "----------------------------------------------------------------\n",
      "        Layer (type)               Output Shape         Param #\n",
      "================================================================\n",
      "              Tanh-1              [-1, 1, 1414]               0\n",
      "      MaskedLinear-2              [-1, 1, 1414]               0\n",
      "            Linear-3               [-1, 1, 500]         707,500\n",
      "              Tanh-4               [-1, 1, 500]               0\n",
      "            Linear-5              [-1, 1, 1414]         708,414\n",
      "              Tanh-6              [-1, 1, 1414]               0\n",
      "              Tanh-7             [-1, 1, 10232]               0\n",
      "      MaskedLinear-8             [-1, 1, 10232]               0\n",
      "================================================================\n",
      "Total params: 1,415,914\n",
      "Trainable params: 1,415,914\n",
      "Non-trainable params: 0\n",
      "----------------------------------------------------------------\n",
      "Input size (MB): 0.04\n",
      "Forward/backward pass size (MB): 0.21\n",
      "Params size (MB): 5.40\n",
      "Estimated Total Size (MB): 5.65\n",
      "----------------------------------------------------------------\n",
      "[1,     1] loss: 0.90373\n",
      "[1,   101] loss: 0.75309\n",
      "[2,     1] loss: 0.72434\n",
      "[2,   101] loss: 0.67569\n",
      "[3,     1] loss: 0.66682\n",
      "[3,   101] loss: 0.60862\n",
      "[4,     1] loss: 0.59394\n",
      "[4,   101] loss: 0.52849\n",
      "[5,     1] loss: 0.51480\n",
      "[5,   101] loss: 0.44644\n",
      "[6,     1] loss: 0.43738\n",
      "[6,   101] loss: 0.37130\n",
      "[7,     1] loss: 0.37052\n",
      "[7,   101] loss: 0.30837\n",
      "[8,     1] loss: 0.31565\n",
      "[8,   101] loss: 0.25779\n",
      "[9,     1] loss: 0.27220\n",
      "[9,   101] loss: 0.21811\n",
      "[10,     1] loss: 0.23843\n",
      "[10,   101] loss: 0.18813\n",
      "[11,     1] loss: 0.21372\n",
      "[11,   101] loss: 0.16597\n",
      "[12,     1] loss: 0.19493\n",
      "[12,   101] loss: 0.14917\n",
      "[13,     1] loss: 0.18109\n",
      "[13,   101] loss: 0.13633\n",
      "[14,     1] loss: 0.17009\n",
      "[14,   101] loss: 0.12633\n",
      "[15,     1] loss: 0.16179\n",
      "[15,   101] loss: 0.11823\n",
      "[16,     1] loss: 0.15469\n",
      "[16,   101] loss: 0.11184\n",
      "[17,     1] loss: 0.14951\n",
      "[17,   101] loss: 0.10678\n",
      "[18,     1] loss: 0.14504\n",
      "[18,   101] loss: 0.10278\n",
      "[19,     1] loss: 0.14173\n",
      "[19,   101] loss: 0.09962\n",
      "[20,     1] loss: 0.13900\n",
      "[20,   101] loss: 0.09666\n",
      "[21,     1] loss: 0.13651\n",
      "[21,   101] loss: 0.09443\n",
      "[22,     1] loss: 0.13460\n",
      "[22,   101] loss: 0.09270\n",
      "[23,     1] loss: 0.13295\n",
      "[23,   101] loss: 0.09109\n",
      "[24,     1] loss: 0.13156\n",
      "[24,   101] loss: 0.08986\n",
      "[25,     1] loss: 0.13057\n",
      "[25,   101] loss: 0.08887\n",
      "[26,     1] loss: 0.12968\n",
      "[26,   101] loss: 0.08797\n",
      "[27,     1] loss: 0.12877\n",
      "[27,   101] loss: 0.08712\n",
      "[28,     1] loss: 0.12812\n",
      "[28,   101] loss: 0.08645\n",
      "[29,     1] loss: 0.12762\n",
      "[29,   101] loss: 0.08582\n",
      "[30,     1] loss: 0.12673\n",
      "[30,   101] loss: 0.08509\n",
      "[31,     1] loss: 0.12628\n",
      "[31,   101] loss: 0.08465\n",
      "[32,     1] loss: 0.12562\n",
      "[32,   101] loss: 0.08420\n",
      "[33,     1] loss: 0.12529\n",
      "[33,   101] loss: 0.08387\n",
      "[34,     1] loss: 0.12488\n",
      "[34,   101] loss: 0.08359\n",
      "[35,     1] loss: 0.12473\n",
      "[35,   101] loss: 0.08327\n",
      "[36,     1] loss: 0.12443\n",
      "[36,   101] loss: 0.08301\n",
      "[37,     1] loss: 0.12428\n",
      "[37,   101] loss: 0.08276\n",
      "[38,     1] loss: 0.12391\n",
      "[38,   101] loss: 0.08254\n",
      "[39,     1] loss: 0.12339\n",
      "[39,   101] loss: 0.08230\n",
      "[40,     1] loss: 0.12355\n",
      "[40,   101] loss: 0.08213\n",
      "[41,     1] loss: 0.12310\n",
      "[41,   101] loss: 0.08206\n",
      "[42,     1] loss: 0.12315\n",
      "[42,   101] loss: 0.08191\n",
      "[43,     1] loss: 0.12303\n",
      "[43,   101] loss: 0.08171\n",
      "[44,     1] loss: 0.12290\n",
      "[44,   101] loss: 0.08133\n",
      "[45,     1] loss: 0.12205\n",
      "[45,   101] loss: 0.08103\n",
      "[46,     1] loss: 0.12180\n",
      "[46,   101] loss: 0.08089\n",
      "[47,     1] loss: 0.12145\n",
      "[47,   101] loss: 0.08075\n",
      "[48,     1] loss: 0.12132\n",
      "[48,   101] loss: 0.08060\n",
      "[49,     1] loss: 0.12101\n",
      "[49,   101] loss: 0.08043\n",
      "[50,     1] loss: 0.12089\n",
      "[50,   101] loss: 0.08015\n",
      "Finished Training\n",
      "533\n",
      "'ae_pipeline'  1855698.41 ms\n"
     ]
    }
   ],
   "source": [
    "ae0, train_loader0, embeddings0 = ae_pipeline(mask, dataset0, n_epochs=50, batch_size=5, print_loss=100, output_file='model_0.pth', embed_file='embeddings_ae_0.csv')"
   ]
  },
  {
   "cell_type": "markdown",
   "metadata": {},
   "source": [
    "### Entrainement sur le groupe 1"
   ]
  },
  {
   "cell_type": "code",
   "execution_count": 14,
   "metadata": {},
   "outputs": [],
   "source": [
    "dataset1= expr_mat[targets==1, :]"
   ]
  },
  {
   "cell_type": "code",
   "execution_count": 16,
   "metadata": {},
   "outputs": [
    {
     "name": "stdout",
     "output_type": "stream",
     "text": [
      "----------------------------------------------------------------\n",
      "        Layer (type)               Output Shape         Param #\n",
      "================================================================\n",
      "              Tanh-1              [-1, 1, 1414]               0\n",
      "      MaskedLinear-2              [-1, 1, 1414]               0\n",
      "            Linear-3               [-1, 1, 500]         707,500\n",
      "              Tanh-4               [-1, 1, 500]               0\n",
      "            Linear-5              [-1, 1, 1414]         708,414\n",
      "              Tanh-6              [-1, 1, 1414]               0\n",
      "              Tanh-7             [-1, 1, 10232]               0\n",
      "      MaskedLinear-8             [-1, 1, 10232]               0\n",
      "================================================================\n",
      "Total params: 1,415,914\n",
      "Trainable params: 1,415,914\n",
      "Non-trainable params: 0\n",
      "----------------------------------------------------------------\n",
      "Input size (MB): 0.04\n",
      "Forward/backward pass size (MB): 0.21\n",
      "Params size (MB): 5.40\n",
      "Estimated Total Size (MB): 5.65\n",
      "----------------------------------------------------------------\n",
      "[1,     1] loss: 0.99211\n",
      "[2,     1] loss: 0.79977\n",
      "[3,     1] loss: 0.72360\n",
      "[4,     1] loss: 0.63530\n",
      "[5,     1] loss: 0.55915\n",
      "[6,     1] loss: 0.48724\n",
      "[7,     1] loss: 0.42387\n",
      "[8,     1] loss: 0.37131\n",
      "[9,     1] loss: 0.32810\n",
      "[10,     1] loss: 0.29104\n",
      "[11,     1] loss: 0.25965\n",
      "[12,     1] loss: 0.23181\n",
      "[13,     1] loss: 0.20713\n",
      "[14,     1] loss: 0.18571\n",
      "[15,     1] loss: 0.16990\n",
      "[16,     1] loss: 0.15821\n",
      "[17,     1] loss: 0.14923\n",
      "[18,     1] loss: 0.14196\n",
      "[19,     1] loss: 0.13568\n",
      "[20,     1] loss: 0.13114\n",
      "[21,     1] loss: 0.12759\n",
      "[22,     1] loss: 0.12469\n",
      "[23,     1] loss: 0.12172\n",
      "[24,     1] loss: 0.11960\n",
      "[25,     1] loss: 0.11810\n",
      "[26,     1] loss: 0.11678\n",
      "[27,     1] loss: 0.11563\n",
      "[28,     1] loss: 0.11466\n",
      "[29,     1] loss: 0.11364\n",
      "[30,     1] loss: 0.11297\n",
      "[31,     1] loss: 0.11235\n",
      "[32,     1] loss: 0.11187\n",
      "[33,     1] loss: 0.11144\n",
      "[34,     1] loss: 0.11107\n",
      "[35,     1] loss: 0.11038\n",
      "[36,     1] loss: 0.10996\n",
      "[37,     1] loss: 0.10964\n",
      "[38,     1] loss: 0.10937\n",
      "[39,     1] loss: 0.10909\n",
      "[40,     1] loss: 0.10876\n",
      "[41,     1] loss: 0.10869\n",
      "[42,     1] loss: 0.10854\n",
      "[43,     1] loss: 0.10831\n",
      "[44,     1] loss: 0.10788\n",
      "[45,     1] loss: 0.10769\n",
      "[46,     1] loss: 0.10760\n",
      "[47,     1] loss: 0.10749\n",
      "[48,     1] loss: 0.10733\n",
      "[49,     1] loss: 0.10714\n",
      "[50,     1] loss: 0.10683\n",
      "Finished Training\n",
      "488\n",
      "'ae_pipeline'  1707970.23 ms\n"
     ]
    }
   ],
   "source": [
    "ae, train_loader, embeddings = ae_pipeline(mask, dataset1, n_epochs=50, batch_size=5, print_loss=100, output_file='model_1.pth', embed_file='embeddings_ae_1.csv')"
   ]
  },
  {
   "cell_type": "code",
   "execution_count": 17,
   "metadata": {},
   "outputs": [],
   "source": [
    "ae1, train_loader1, embeddings1 = ae, train_loader, embeddings"
   ]
  },
  {
   "cell_type": "code",
   "execution_count": 19,
   "metadata": {},
   "outputs": [
    {
     "data": {
      "text/plain": [
       "GeneAutoEncoder(\n",
       "  (encoder): Sequential(\n",
       "    (0): MaskedLinear(\n",
       "      (activation): Tanh()\n",
       "    )\n",
       "    (1): Linear(in_features=1414, out_features=500, bias=True)\n",
       "    (2): Tanh()\n",
       "  )\n",
       "  (decoder): Sequential(\n",
       "    (0): Linear(in_features=500, out_features=1414, bias=True)\n",
       "    (1): Tanh()\n",
       "    (2): MaskedLinear(\n",
       "      (activation): Tanh()\n",
       "    )\n",
       "  )\n",
       ")"
      ]
     },
     "execution_count": 19,
     "metadata": {},
     "output_type": "execute_result"
    }
   ],
   "source": [
    "ae0"
   ]
  },
  {
   "cell_type": "code",
   "execution_count": null,
   "metadata": {},
   "outputs": [],
   "source": []
  }
 ],
 "metadata": {
  "kernelspec": {
   "display_name": "Python 3 (Spyder)",
   "language": "python3",
   "name": "python3"
  },
  "language_info": {
   "codemirror_mode": {
    "name": "ipython",
    "version": 3
   },
   "file_extension": ".py",
   "mimetype": "text/x-python",
   "name": "python",
   "nbconvert_exporter": "python",
   "pygments_lexer": "ipython3",
   "version": "3.6.9"
  }
 },
 "nbformat": 4,
 "nbformat_minor": 4
}
