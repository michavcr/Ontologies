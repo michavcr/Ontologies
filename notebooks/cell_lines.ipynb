{
 "cells": [
  {
   "cell_type": "code",
   "execution_count": 59,
   "metadata": {},
   "outputs": [],
   "source": [
    "import os\n",
    "import sys\n",
    "sys.path.append(os.path.join('..', 'src'))\n",
    "import pandas as pd\n",
    "import numpy as np\n",
    "import matplotlib.pyplot as plt\n",
    "from genes_annotations import *\n",
    "from autoencoder import *\n",
    "from utils import *"
   ]
  },
  {
   "cell_type": "code",
   "execution_count": 2,
   "metadata": {},
   "outputs": [],
   "source": [
    "filename = \"../data_tisch2/Glioma_GSE102130_expression.h5\"\n",
    "\n",
    "h5 = read_h5(filename)\n",
    "\n",
    "selected_genes = get_all_genes(h5)"
   ]
  },
  {
   "cell_type": "code",
   "execution_count": 3,
   "metadata": {},
   "outputs": [
    {
     "name": "stdout",
     "output_type": "stream",
     "text": [
      "HMS:0:00:08.476980 606,840 annotations READ: ../goa_human.gaf \n",
      "../go.obo: fmt(1.2) rel(2021-02-01) 50,515 GO Terms; optional_attrs(consider replaced_by)\n"
     ]
    }
   ],
   "source": [
    "genes_go, all_go, all_genes = get_all_gene_annotations(h5)"
   ]
  },
  {
   "cell_type": "code",
   "execution_count": 4,
   "metadata": {},
   "outputs": [],
   "source": [
    "mask = build_mask(h5,genes_go,all_go,all_genes)"
   ]
  },
  {
   "cell_type": "code",
   "execution_count": 5,
   "metadata": {},
   "outputs": [
    {
     "name": "stdout",
     "output_type": "stream",
     "text": [
      "'build_expr_mat'  421.57 ms\n",
      "'select_gene_expr_v2'  335.68 ms\n"
     ]
    }
   ],
   "source": [
    "expr_mat = build_expr_mat(h5)\n",
    "expr_mat = select_gene_expr_v2(h5, expr_mat, all_genes)"
   ]
  },
  {
   "cell_type": "markdown",
   "metadata": {},
   "source": [
    "### Récupérer les labels"
   ]
  },
  {
   "cell_type": "code",
   "execution_count": 6,
   "metadata": {},
   "outputs": [],
   "source": [
    "df = pd.read_csv('../data_tisch2/Glioma_GSE102130_CellMetainfo_table.tsv', delimiter='\\t')\n",
    "targets = np.array(df['Cluster'])\n",
    "N_classes = targets.max()+1"
   ]
  },
  {
   "cell_type": "code",
   "execution_count": 7,
   "metadata": {},
   "outputs": [
    {
     "data": {
      "text/plain": [
       "488"
      ]
     },
     "execution_count": 7,
     "metadata": {},
     "output_type": "execute_result"
    }
   ],
   "source": [
    "np.sum(targets==1)"
   ]
  },
  {
   "cell_type": "markdown",
   "metadata": {},
   "source": [
    "### Entrainement sur le groupe 0"
   ]
  },
  {
   "cell_type": "code",
   "execution_count": 8,
   "metadata": {},
   "outputs": [],
   "source": [
    "dataset0 = expr_mat[targets==0, :]"
   ]
  },
  {
   "cell_type": "code",
   "execution_count": 9,
   "metadata": {},
   "outputs": [
    {
     "name": "stdout",
     "output_type": "stream",
     "text": [
      "----------------------------------------------------------------\n",
      "        Layer (type)               Output Shape         Param #\n",
      "================================================================\n",
      "              Tanh-1              [-1, 1, 1414]               0\n",
      "      MaskedLinear-2              [-1, 1, 1414]               0\n",
      "            Linear-3               [-1, 1, 500]         707,500\n",
      "              Tanh-4               [-1, 1, 500]               0\n",
      "            Linear-5              [-1, 1, 1414]         708,414\n",
      "              Tanh-6              [-1, 1, 1414]               0\n",
      "              Tanh-7             [-1, 1, 10232]               0\n",
      "      MaskedLinear-8             [-1, 1, 10232]               0\n",
      "================================================================\n",
      "Total params: 1,415,914\n",
      "Trainable params: 1,415,914\n",
      "Non-trainable params: 0\n",
      "----------------------------------------------------------------\n",
      "Input size (MB): 0.04\n",
      "Forward/backward pass size (MB): 0.21\n",
      "Params size (MB): 5.40\n",
      "Estimated Total Size (MB): 5.65\n",
      "----------------------------------------------------------------\n",
      "[1,     1] loss: 0.92065\n",
      "[1,   101] loss: 0.77439\n",
      "[2,     1] loss: 0.75143\n",
      "[2,   101] loss: 0.69940\n",
      "[3,     1] loss: 0.68366\n",
      "[3,   101] loss: 0.61955\n",
      "[4,     1] loss: 0.59767\n",
      "[4,   101] loss: 0.52755\n",
      "[5,     1] loss: 0.50765\n",
      "[5,   101] loss: 0.43773\n",
      "Finished Training\n",
      "'ae_pipeline'  183041.94 ms\n"
     ]
    }
   ],
   "source": [
    "ae0, train_loader0, embeddings0 = ae_pipeline(mask, dataset0, all_genes, all_go, n_epochs=5, batch_size=5, print_loss=100, output_file='model_0_bis.pth', embed_file='embeddings_ae_0_bis.csv')"
   ]
  },
  {
   "cell_type": "markdown",
   "metadata": {},
   "source": [
    "### Entrainement sur le groupe 1"
   ]
  },
  {
   "cell_type": "code",
   "execution_count": 46,
   "metadata": {},
   "outputs": [],
   "source": [
    "dataset1= expr_mat[targets==1, :]"
   ]
  },
  {
   "cell_type": "code",
   "execution_count": 49,
   "metadata": {},
   "outputs": [
    {
     "name": "stdout",
     "output_type": "stream",
     "text": [
      "----------------------------------------------------------------\n",
      "        Layer (type)               Output Shape         Param #\n",
      "================================================================\n",
      "              Tanh-1              [-1, 1, 1414]               0\n",
      "      MaskedLinear-2              [-1, 1, 1414]               0\n",
      "            Linear-3               [-1, 1, 500]         707,500\n",
      "              Tanh-4               [-1, 1, 500]               0\n",
      "            Linear-5              [-1, 1, 1414]         708,414\n",
      "              Tanh-6              [-1, 1, 1414]               0\n",
      "              Tanh-7             [-1, 1, 10232]               0\n",
      "      MaskedLinear-8             [-1, 1, 10232]               0\n",
      "================================================================\n",
      "Total params: 1,415,914\n",
      "Trainable params: 1,415,914\n",
      "Non-trainable params: 0\n",
      "----------------------------------------------------------------\n",
      "Input size (MB): 0.04\n",
      "Forward/backward pass size (MB): 0.21\n",
      "Params size (MB): 5.40\n",
      "Estimated Total Size (MB): 5.65\n",
      "----------------------------------------------------------------\n",
      "[1,     1] loss: 0.97542\n",
      "[2,     1] loss: 0.82191\n",
      "[3,     1] loss: 0.71337\n",
      "[4,     1] loss: 0.64074\n",
      "[5,     1] loss: 0.55860\n",
      "Finished Training\n",
      "'ae_pipeline'  236603.18 ms\n"
     ]
    }
   ],
   "source": [
    "ae, train_loader, embeddings = ae_pipeline(mask, dataset1, all_genes, all_go, n_epochs=5, batch_size=5, print_loss=100, output_file='model_1.pth', embed_file='embeddings_ae_1.csv')"
   ]
  },
  {
   "cell_type": "code",
   "execution_count": 17,
   "metadata": {},
   "outputs": [],
   "source": [
    "ae1, train_loader1, embeddings1 = ae, train_loader, embeddings"
   ]
  },
  {
   "cell_type": "code",
   "execution_count": 10,
   "metadata": {},
   "outputs": [
    {
     "data": {
      "text/plain": [
       "GeneAutoEncoder(\n",
       "  (encoder): Sequential(\n",
       "    (0): MaskedLinear(\n",
       "      (activation): Tanh()\n",
       "    )\n",
       "    (1): Linear(in_features=1414, out_features=500, bias=True)\n",
       "    (2): Tanh()\n",
       "  )\n",
       "  (decoder): Sequential(\n",
       "    (0): Linear(in_features=500, out_features=1414, bias=True)\n",
       "    (1): Tanh()\n",
       "    (2): MaskedLinear(\n",
       "      (activation): Tanh()\n",
       "    )\n",
       "  )\n",
       ")"
      ]
     },
     "execution_count": 10,
     "metadata": {},
     "output_type": "execute_result"
    }
   ],
   "source": [
    "ae0"
   ]
  },
  {
   "cell_type": "code",
   "execution_count": 34,
   "metadata": {},
   "outputs": [
    {
     "data": {
      "text/plain": [
       "[('TBXT', 1.3344258069992065),\n",
       " ('SMO', 1.3265795707702637),\n",
       " ('TBX19', 1.1676260232925415),\n",
       " ('EOMES', 0.9587002992630005),\n",
       " ('TBX4', 0.8970722556114197),\n",
       " ('TBR1', 0.8322638869285583),\n",
       " ('TBX2', 0.7771263122558594),\n",
       " ('TBX1', 0.7703359127044678),\n",
       " ('TBX3', 0.6920588612556458),\n",
       " ('TBX10', 0.6038128733634949),\n",
       " ('NOTCH1', 0.3189584016799927),\n",
       " ('TBX15', 0.09548897296190262),\n",
       " ('APC2', -0.10250582545995712),\n",
       " ('APC', -0.33649662137031555),\n",
       " ('PRDM14', -0.7197322845458984),\n",
       " ('TBX21', -0.7427435517311096),\n",
       " ('CDON', -0.8807424306869507),\n",
       " ('TBX18', -0.8862106204032898),\n",
       " ('DHH', -0.8881945013999939),\n",
       " ('MGA', -1.0910060405731201),\n",
       " ('PSEN1', -1.1790727376937866),\n",
       " ('FKBP8', -1.184144139289856),\n",
       " ('TBX6', -1.246217966079712),\n",
       " ('SOX9', -1.406280755996704),\n",
       " ('TBX5', -1.6267459392547607)]"
      ]
     },
     "execution_count": 34,
     "metadata": {},
     "output_type": "execute_result"
    }
   ],
   "source": [
    "ae0.get_sorted_genes(45)"
   ]
  },
  {
   "cell_type": "code",
   "execution_count": 28,
   "metadata": {},
   "outputs": [
    {
     "data": {
      "text/plain": [
       "tensor([[ 0.0200, -0.0731,  0.1153,  ..., -1.0692,  0.6816,  0.9931],\n",
       "        [-0.4616, -1.7603,  1.0751,  ...,  0.0207,  1.5827,  1.3610],\n",
       "        [-1.0472,  0.7226,  1.6309,  ...,  0.7128,  0.2539, -0.1556],\n",
       "        ...,\n",
       "        [ 0.1760,  1.3726, -1.5686,  ...,  2.5391,  0.2645,  1.0555],\n",
       "        [-0.6496,  1.4782, -0.7362,  ..., -0.5032, -0.4651,  0.5863],\n",
       "        [ 0.1403, -0.8721,  0.3371,  ..., -0.6045,  0.4757, -0.1975]])"
      ]
     },
     "execution_count": 28,
     "metadata": {},
     "output_type": "execute_result"
    }
   ],
   "source": [
    "ae0.encoder[0].W.detach()"
   ]
  },
  {
   "cell_type": "code",
   "execution_count": 33,
   "metadata": {},
   "outputs": [
    {
     "data": {
      "text/plain": [
       "'GO:0000149'"
      ]
     },
     "execution_count": 33,
     "metadata": {},
     "output_type": "execute_result"
    }
   ],
   "source": [
    "all_go[2]"
   ]
  },
  {
   "cell_type": "code",
   "execution_count": 38,
   "metadata": {},
   "outputs": [],
   "source": [
    "i=all_genes.index('TFEB')"
   ]
  },
  {
   "cell_type": "code",
   "execution_count": 42,
   "metadata": {},
   "outputs": [
    {
     "data": {
      "text/plain": [
       "[('GO:0008474', -0.5287498235702515)]"
      ]
     },
     "execution_count": 42,
     "metadata": {},
     "output_type": "execute_result"
    }
   ],
   "source": [
    "ae0.get_sorted_terms(50)"
   ]
  },
  {
   "cell_type": "code",
   "execution_count": 53,
   "metadata": {},
   "outputs": [
    {
     "data": {
      "text/plain": [
       "{'GO:0019899': 1.5770986080169678,\n",
       " 'GO:0000981': 0.7112523317337036,\n",
       " 'GO:0006959': 0.3154316246509552,\n",
       " 'GO:0002250': 0.11283542215824127,\n",
       " 'GO:0001892': -0.14081084728240967,\n",
       " 'GO:0006914': -0.5266640186309814,\n",
       " 'GO:0046983': -1.8595452308654785}"
      ]
     },
     "execution_count": 53,
     "metadata": {},
     "output_type": "execute_result"
    }
   ],
   "source": [
    "dict(ae.get_sorted_terms(i))"
   ]
  },
  {
   "cell_type": "code",
   "execution_count": 52,
   "metadata": {},
   "outputs": [
    {
     "data": {
      "text/plain": [
       "{'GO:0002250': 0.8904405236244202,\n",
       " 'GO:0046983': 0.5321925282478333,\n",
       " 'GO:0019899': 0.23537079989910126,\n",
       " 'GO:0001892': 0.057046208530664444,\n",
       " 'GO:0006959': -0.7017244696617126,\n",
       " 'GO:0000981': -0.7411890029907227,\n",
       " 'GO:0006914': -1.3758678436279297}"
      ]
     },
     "execution_count": 52,
     "metadata": {},
     "output_type": "execute_result"
    }
   ],
   "source": [
    "dict(ae0.get_sorted_terms(i))"
   ]
  },
  {
   "cell_type": "code",
   "execution_count": 54,
   "metadata": {},
   "outputs": [
    {
     "name": "stdout",
     "output_type": "stream",
     "text": [
      "../go.obo: fmt(1.2) rel(2021-02-01) 50,515 GO Terms; optional_attrs(consider replaced_by)\n"
     ]
    }
   ],
   "source": [
    "godag = GODag(\"../go.obo\", optional_attrs={'consider', 'replaced_by'}, load_obsolete=True)"
   ]
  },
  {
   "cell_type": "code",
   "execution_count": 57,
   "metadata": {},
   "outputs": [
    {
     "data": {
      "text/plain": [
       "'adaptive immune response'"
      ]
     },
     "execution_count": 57,
     "metadata": {},
     "output_type": "execute_result"
    }
   ],
   "source": [
    "godag['GO:0002250'].name"
   ]
  },
  {
   "cell_type": "code",
   "execution_count": 60,
   "metadata": {},
   "outputs": [
    {
     "name": "stdout",
     "output_type": "stream",
     "text": [
      "HMS:0:00:10.702523 606,840 annotations READ: ../goa_human.gaf \n",
      "../go.obo: fmt(1.2) rel(2021-02-01) 50,515 GO Terms; optional_attrs(consider replaced_by)\n"
     ]
    }
   ],
   "source": [
    "goterms=GOTerm()"
   ]
  },
  {
   "cell_type": "code",
   "execution_count": 61,
   "metadata": {},
   "outputs": [
    {
     "data": {
      "text/plain": [
       "'adaptive immune response'"
      ]
     },
     "execution_count": 61,
     "metadata": {},
     "output_type": "execute_result"
    }
   ],
   "source": [
    "goterms.get_go_name('GO:0002250')"
   ]
  },
  {
   "cell_type": "code",
   "execution_count": 62,
   "metadata": {},
   "outputs": [
    {
     "name": "stdout",
     "output_type": "stream",
     "text": [
      "enzyme binding 1.5770986080169678\n",
      "DNA-binding transcription factor activity, RNA polymerase II-specific 0.7112523317337036\n",
      "humoral immune response 0.3154316246509552\n",
      "adaptive immune response 0.11283542215824127\n",
      "embryonic placenta development -0.14081084728240967\n",
      "autophagy -0.5266640186309814\n",
      "protein dimerization activity -1.8595452308654785\n"
     ]
    }
   ],
   "source": [
    "for t, v in ae.get_sorted_terms(i):\n",
    "    print(goterms.get_go_name(t), v)"
   ]
  },
  {
   "cell_type": "code",
   "execution_count": null,
   "metadata": {},
   "outputs": [],
   "source": []
  }
 ],
 "metadata": {
  "kernelspec": {
   "display_name": "Python 3 (Spyder)",
   "language": "python3",
   "name": "python3"
  },
  "language_info": {
   "codemirror_mode": {
    "name": "ipython",
    "version": 3
   },
   "file_extension": ".py",
   "mimetype": "text/x-python",
   "name": "python",
   "nbconvert_exporter": "python",
   "pygments_lexer": "ipython3",
   "version": "3.6.9"
  }
 },
 "nbformat": 4,
 "nbformat_minor": 4
}
