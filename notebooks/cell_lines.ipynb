{
 "cells": [
  {
   "cell_type": "code",
   "execution_count": 1,
   "metadata": {},
   "outputs": [],
   "source": [
    "import os\n",
    "import sys\n",
    "sys.path.append(os.path.join('..', 'src'))\n",
    "import pandas as pd\n",
    "import numpy as np\n",
    "import matplotlib.pyplot as plt\n",
    "from genes_annotations import *\n",
    "from autoencoder import *\n",
    "from utils import *"
   ]
  },
  {
   "cell_type": "code",
   "execution_count": 2,
   "metadata": {},
   "outputs": [],
   "source": [
    "filename = \"../data_tisch2/Glioma_GSE102130_expression.h5\"\n",
    "\n",
    "h5 = read_h5(filename)\n",
    "\n",
    "selected_genes = get_all_genes(h5)"
   ]
  },
  {
   "cell_type": "code",
   "execution_count": 3,
   "metadata": {},
   "outputs": [
    {
     "name": "stdout",
     "output_type": "stream",
     "text": [
      "HMS:0:00:24.547396 606,840 annotations READ: ../goa_human.gaf \n",
      "../go.obo: fmt(1.2) rel(2021-05-01) 50,605 GO Terms; optional_attrs(consider replaced_by)\n"
     ]
    }
   ],
   "source": [
    "goterm, genes_go, all_go, all_genes = get_all_gene_annotations(h5)"
   ]
  },
  {
   "cell_type": "code",
   "execution_count": 4,
   "metadata": {},
   "outputs": [],
   "source": [
    "mask = build_mask(h5,genes_go,all_go,all_genes)"
   ]
  },
  {
   "cell_type": "code",
   "execution_count": 5,
   "metadata": {},
   "outputs": [
    {
     "name": "stdout",
     "output_type": "stream",
     "text": [
      "'build_expr_mat'  908.90 ms\n",
      "'select_gene_expr_v2'  738.36 ms\n"
     ]
    }
   ],
   "source": [
    "expr_mat = build_expr_mat(h5)\n",
    "expr_mat = select_gene_expr_v2(h5, expr_mat, all_genes)"
   ]
  },
  {
   "cell_type": "markdown",
   "metadata": {},
   "source": [
    "### Récupérer les labels"
   ]
  },
  {
   "cell_type": "code",
   "execution_count": 6,
   "metadata": {},
   "outputs": [],
   "source": [
    "df = pd.read_csv('../data_tisch2/Glioma_GSE102130_CellMetainfo_table.tsv', delimiter='\\t')\n",
    "targets = np.array(df['Cluster'])\n",
    "N_classes = targets.max()+1"
   ]
  },
  {
   "cell_type": "code",
   "execution_count": 7,
   "metadata": {},
   "outputs": [
    {
     "data": {
      "text/plain": [
       "488"
      ]
     },
     "execution_count": 7,
     "metadata": {},
     "output_type": "execute_result"
    }
   ],
   "source": [
    "np.sum(targets==1)"
   ]
  },
  {
   "cell_type": "markdown",
   "metadata": {},
   "source": [
    "### Entrainement sur le groupe 0"
   ]
  },
  {
   "cell_type": "code",
   "execution_count": 8,
   "metadata": {},
   "outputs": [],
   "source": [
    "dataset0 = expr_mat[targets==0, :]"
   ]
  },
  {
   "cell_type": "code",
   "execution_count": 9,
   "metadata": {},
   "outputs": [
    {
     "name": "stdout",
     "output_type": "stream",
     "text": [
      "----------------------------------------------------------------\n",
      "        Layer (type)               Output Shape         Param #\n",
      "================================================================\n",
      "              Tanh-1              [-1, 1, 1585]               0\n",
      "      MaskedLinear-2              [-1, 1, 1585]               0\n",
      "            Linear-3               [-1, 1, 100]         158,600\n",
      "              Tanh-4               [-1, 1, 100]               0\n",
      "            Linear-5              [-1, 1, 1585]         160,085\n",
      "              Tanh-6              [-1, 1, 1585]               0\n",
      "              Tanh-7             [-1, 1, 10146]               0\n",
      "      MaskedLinear-8             [-1, 1, 10146]               0\n",
      "================================================================\n",
      "Total params: 318,685\n",
      "Trainable params: 318,685\n",
      "Non-trainable params: 0\n",
      "----------------------------------------------------------------\n",
      "Input size (MB): 0.04\n",
      "Forward/backward pass size (MB): 0.20\n",
      "Params size (MB): 1.22\n",
      "Estimated Total Size (MB): 1.46\n",
      "----------------------------------------------------------------\n",
      "[1,    11] loss: 1.52018\n",
      "[2,    11] loss: 1.27612\n",
      "[3,    11] loss: 0.96489\n",
      "[4,    11] loss: 0.79955\n",
      "[5,    11] loss: 0.72094\n",
      "[6,    11] loss: 0.67003\n",
      "[7,    11] loss: 0.62633\n",
      "[8,    11] loss: 0.58599\n",
      "[9,    11] loss: 0.54291\n",
      "[10,    11] loss: 0.49521\n",
      "[11,    11] loss: 0.44302\n",
      "[12,    11] loss: 0.38769\n",
      "[13,    11] loss: 0.33175\n",
      "[14,    11] loss: 0.27861\n",
      "[15,    11] loss: 0.23223\n",
      "[16,    11] loss: 0.19516\n",
      "[17,    11] loss: 0.16796\n",
      "[18,    11] loss: 0.14930\n",
      "[19,    11] loss: 0.13729\n",
      "[20,    11] loss: 0.12979\n",
      "[21,    11] loss: 0.12471\n",
      "[22,    11] loss: 0.12110\n",
      "[23,    11] loss: 0.11838\n",
      "[24,    11] loss: 0.11623\n",
      "[25,    11] loss: 0.11447\n",
      "[26,    11] loss: 0.11302\n",
      "[27,    11] loss: 0.11215\n",
      "[28,    11] loss: 0.11154\n",
      "[29,    11] loss: 0.11079\n",
      "[30,    11] loss: 0.10997\n",
      "[31,    11] loss: 0.10928\n",
      "[32,    11] loss: 0.10868\n",
      "[33,    11] loss: 0.10791\n",
      "[34,    11] loss: 0.10702\n",
      "[35,    11] loss: 0.10629\n",
      "[36,    11] loss: 0.10576\n",
      "[37,    11] loss: 0.10509\n",
      "[38,    11] loss: 0.10453\n",
      "[39,    11] loss: 0.10393\n",
      "[40,    11] loss: 0.10351\n",
      "[41,    11] loss: 0.10328\n",
      "[42,    11] loss: 0.10297\n",
      "[43,    11] loss: 0.10277\n",
      "[44,    11] loss: 0.10264\n",
      "[45,    11] loss: 0.10253\n",
      "[46,    11] loss: 0.10242\n",
      "[47,    11] loss: 0.10233\n",
      "[48,    11] loss: 0.10225\n",
      "[49,    11] loss: 0.10215\n",
      "[50,    11] loss: 0.10205\n",
      "Finished Training\n",
      "'ae_pipeline'  736598.47 ms\n"
     ]
    }
   ],
   "source": [
    "ae0, train_loader0, embeddings0 = ae_pipeline(mask, dataset0, all_genes, all_go, n_epochs=50, batch_size=50, print_loss=100, output_file='model_0.pth', embed_file='embeddings_ae_0.csv')"
   ]
  },
  {
   "cell_type": "markdown",
   "metadata": {},
   "source": [
    "### Entrainement sur le groupe 1"
   ]
  },
  {
   "cell_type": "code",
   "execution_count": 8,
   "metadata": {},
   "outputs": [],
   "source": [
    "dataset1= expr_mat[targets==1, :]"
   ]
  },
  {
   "cell_type": "code",
   "execution_count": 9,
   "metadata": {},
   "outputs": [
    {
     "name": "stdout",
     "output_type": "stream",
     "text": [
      "----------------------------------------------------------------\n",
      "        Layer (type)               Output Shape         Param #\n",
      "================================================================\n",
      "              Tanh-1              [-1, 1, 1585]               0\n",
      "      MaskedLinear-2              [-1, 1, 1585]               0\n",
      "            Linear-3               [-1, 1, 100]         158,600\n",
      "              Tanh-4               [-1, 1, 100]               0\n",
      "            Linear-5              [-1, 1, 1585]         160,085\n",
      "              Tanh-6              [-1, 1, 1585]               0\n",
      "              Tanh-7             [-1, 1, 10146]               0\n",
      "      MaskedLinear-8             [-1, 1, 10146]               0\n",
      "================================================================\n",
      "Total params: 318,685\n",
      "Trainable params: 318,685\n",
      "Non-trainable params: 0\n",
      "----------------------------------------------------------------\n",
      "Input size (MB): 0.04\n",
      "Forward/backward pass size (MB): 0.20\n",
      "Params size (MB): 1.22\n",
      "Estimated Total Size (MB): 1.46\n",
      "----------------------------------------------------------------\n",
      "[1,    10] loss: 1.55830\n",
      "[2,    10] loss: 1.34198\n",
      "[3,    10] loss: 1.07610\n",
      "[4,    10] loss: 0.88397\n",
      "[5,    10] loss: 0.77898\n",
      "[6,    10] loss: 0.72518\n",
      "[7,    10] loss: 0.68724\n",
      "[8,    10] loss: 0.65337\n",
      "[9,    10] loss: 0.61724\n",
      "[10,    10] loss: 0.57689\n",
      "[11,    10] loss: 0.53204\n",
      "[12,    10] loss: 0.48295\n",
      "[13,    10] loss: 0.43070\n",
      "[14,    10] loss: 0.37704\n",
      "[15,    10] loss: 0.32452\n",
      "[16,    10] loss: 0.27603\n",
      "[17,    10] loss: 0.23376\n",
      "[18,    10] loss: 0.19983\n",
      "[19,    10] loss: 0.17535\n",
      "[20,    10] loss: 0.15936\n",
      "[21,    10] loss: 0.14855\n",
      "[22,    10] loss: 0.14062\n",
      "[23,    10] loss: 0.13502\n",
      "[24,    10] loss: 0.13112\n",
      "[25,    10] loss: 0.12829\n",
      "[26,    10] loss: 0.12611\n",
      "[27,    10] loss: 0.12428\n",
      "[28,    10] loss: 0.12272\n",
      "[29,    10] loss: 0.12147\n",
      "[30,    10] loss: 0.12046\n",
      "[31,    10] loss: 0.11974\n",
      "[32,    10] loss: 0.11907\n",
      "[33,    10] loss: 0.11827\n",
      "[34,    10] loss: 0.11754\n",
      "[35,    10] loss: 0.11702\n",
      "[36,    10] loss: 0.11645\n",
      "[37,    10] loss: 0.11597\n",
      "[38,    10] loss: 0.11564\n",
      "[39,    10] loss: 0.11514\n",
      "[40,    10] loss: 0.11450\n",
      "[41,    10] loss: 0.11387\n",
      "[42,    10] loss: 0.11313\n",
      "[43,    10] loss: 0.11201\n",
      "[44,    10] loss: 0.11150\n",
      "[45,    10] loss: 0.11130\n",
      "[46,    10] loss: 0.11112\n",
      "[47,    10] loss: 0.11072\n",
      "[48,    10] loss: 0.11013\n",
      "[49,    10] loss: 0.10927\n",
      "[50,    10] loss: 0.10868\n",
      "Finished Training\n",
      "'ae_pipeline'  664761.04 ms\n"
     ]
    }
   ],
   "source": [
    "ae1, train_loader1, embeddings1 = ae_pipeline(mask, dataset1, all_genes, all_go, n_epochs=50, batch_size=50, print_loss=100, output_file='model_1.pth', embed_file='embeddings_ae_1.csv')"
   ]
  },
  {
   "cell_type": "code",
   "execution_count": 10,
   "metadata": {},
   "outputs": [
    {
     "data": {
      "text/plain": [
       "GeneAutoEncoder(\n",
       "  (encoder): Sequential(\n",
       "    (0): MaskedLinear(\n",
       "      (activation): Tanh()\n",
       "    )\n",
       "    (1): Linear(in_features=1414, out_features=500, bias=True)\n",
       "    (2): Tanh()\n",
       "  )\n",
       "  (decoder): Sequential(\n",
       "    (0): Linear(in_features=500, out_features=1414, bias=True)\n",
       "    (1): Tanh()\n",
       "    (2): MaskedLinear(\n",
       "      (activation): Tanh()\n",
       "    )\n",
       "  )\n",
       ")"
      ]
     },
     "execution_count": 10,
     "metadata": {},
     "output_type": "execute_result"
    }
   ],
   "source": [
    "ae0"
   ]
  },
  {
   "cell_type": "code",
   "execution_count": 34,
   "metadata": {},
   "outputs": [
    {
     "data": {
      "text/plain": [
       "[('TBXT', 1.3344258069992065),\n",
       " ('SMO', 1.3265795707702637),\n",
       " ('TBX19', 1.1676260232925415),\n",
       " ('EOMES', 0.9587002992630005),\n",
       " ('TBX4', 0.8970722556114197),\n",
       " ('TBR1', 0.8322638869285583),\n",
       " ('TBX2', 0.7771263122558594),\n",
       " ('TBX1', 0.7703359127044678),\n",
       " ('TBX3', 0.6920588612556458),\n",
       " ('TBX10', 0.6038128733634949),\n",
       " ('NOTCH1', 0.3189584016799927),\n",
       " ('TBX15', 0.09548897296190262),\n",
       " ('APC2', -0.10250582545995712),\n",
       " ('APC', -0.33649662137031555),\n",
       " ('PRDM14', -0.7197322845458984),\n",
       " ('TBX21', -0.7427435517311096),\n",
       " ('CDON', -0.8807424306869507),\n",
       " ('TBX18', -0.8862106204032898),\n",
       " ('DHH', -0.8881945013999939),\n",
       " ('MGA', -1.0910060405731201),\n",
       " ('PSEN1', -1.1790727376937866),\n",
       " ('FKBP8', -1.184144139289856),\n",
       " ('TBX6', -1.246217966079712),\n",
       " ('SOX9', -1.406280755996704),\n",
       " ('TBX5', -1.6267459392547607)]"
      ]
     },
     "execution_count": 34,
     "metadata": {},
     "output_type": "execute_result"
    }
   ],
   "source": [
    "ae0.get_sorted_genes(45)"
   ]
  },
  {
   "cell_type": "code",
   "execution_count": 28,
   "metadata": {},
   "outputs": [
    {
     "data": {
      "text/plain": [
       "tensor([[ 0.0200, -0.0731,  0.1153,  ..., -1.0692,  0.6816,  0.9931],\n",
       "        [-0.4616, -1.7603,  1.0751,  ...,  0.0207,  1.5827,  1.3610],\n",
       "        [-1.0472,  0.7226,  1.6309,  ...,  0.7128,  0.2539, -0.1556],\n",
       "        ...,\n",
       "        [ 0.1760,  1.3726, -1.5686,  ...,  2.5391,  0.2645,  1.0555],\n",
       "        [-0.6496,  1.4782, -0.7362,  ..., -0.5032, -0.4651,  0.5863],\n",
       "        [ 0.1403, -0.8721,  0.3371,  ..., -0.6045,  0.4757, -0.1975]])"
      ]
     },
     "execution_count": 28,
     "metadata": {},
     "output_type": "execute_result"
    }
   ],
   "source": [
    "ae0.encoder[0].W.detach()"
   ]
  },
  {
   "cell_type": "code",
   "execution_count": 33,
   "metadata": {},
   "outputs": [
    {
     "data": {
      "text/plain": [
       "'GO:0000149'"
      ]
     },
     "execution_count": 33,
     "metadata": {},
     "output_type": "execute_result"
    }
   ],
   "source": [
    "all_go[2]"
   ]
  },
  {
   "cell_type": "code",
   "execution_count": 24,
   "metadata": {},
   "outputs": [],
   "source": [
    "#i=all_genes.index('TFEB')\n",
    "i=42"
   ]
  },
  {
   "cell_type": "code",
   "execution_count": 25,
   "metadata": {},
   "outputs": [
    {
     "data": {
      "text/plain": [
       "[('GO:0008474', 1.3336516618728638)]"
      ]
     },
     "execution_count": 25,
     "metadata": {},
     "output_type": "execute_result"
    }
   ],
   "source": [
    "ae0.get_sorted_terms(50)"
   ]
  },
  {
   "cell_type": "code",
   "execution_count": 26,
   "metadata": {},
   "outputs": [
    {
     "data": {
      "text/plain": [
       "{'GO:0007588': 0.3298877477645874,\n",
       " 'GO:0042493': 0.2823418378829956,\n",
       " 'GO:0038183': -0.1788444072008133,\n",
       " 'GO:0014850': -0.9024333953857422,\n",
       " 'GO:0007584': -1.5098052024841309}"
      ]
     },
     "execution_count": 26,
     "metadata": {},
     "output_type": "execute_result"
    }
   ],
   "source": [
    "dict(ae1.get_sorted_terms(i))"
   ]
  },
  {
   "cell_type": "code",
   "execution_count": 27,
   "metadata": {},
   "outputs": [
    {
     "data": {
      "text/plain": [
       "{'GO:0038183': 0.48454126715660095,\n",
       " 'GO:0007588': -0.1464167684316635,\n",
       " 'GO:0014850': -0.39864134788513184,\n",
       " 'GO:0007584': -0.6353287100791931,\n",
       " 'GO:0042493': -1.172379732131958}"
      ]
     },
     "execution_count": 27,
     "metadata": {},
     "output_type": "execute_result"
    }
   ],
   "source": [
    "dict(ae0.get_sorted_terms(i))"
   ]
  },
  {
   "cell_type": "code",
   "execution_count": 54,
   "metadata": {},
   "outputs": [
    {
     "name": "stdout",
     "output_type": "stream",
     "text": [
      "../go.obo: fmt(1.2) rel(2021-02-01) 50,515 GO Terms; optional_attrs(consider replaced_by)\n"
     ]
    }
   ],
   "source": [
    "godag = GODag(\"../go.obo\", optional_attrs={'consider', 'replaced_by'}, load_obsolete=True)"
   ]
  },
  {
   "cell_type": "code",
   "execution_count": 57,
   "metadata": {},
   "outputs": [
    {
     "data": {
      "text/plain": [
       "'adaptive immune response'"
      ]
     },
     "execution_count": 57,
     "metadata": {},
     "output_type": "execute_result"
    }
   ],
   "source": [
    "godag['GO:0002250'].name"
   ]
  },
  {
   "cell_type": "code",
   "execution_count": 20,
   "metadata": {},
   "outputs": [
    {
     "name": "stdout",
     "output_type": "stream",
     "text": [
      "HMS:0:00:14.293889 606,840 annotations READ: ../goa_human.gaf \n",
      "../go.obo: fmt(1.2) rel(2021-02-01) 50,515 GO Terms; optional_attrs(consider replaced_by)\n"
     ]
    }
   ],
   "source": [
    "goterms=GOTerm()"
   ]
  },
  {
   "cell_type": "code",
   "execution_count": 21,
   "metadata": {},
   "outputs": [
    {
     "data": {
      "text/plain": [
       "'adaptive immune response'"
      ]
     },
     "execution_count": 21,
     "metadata": {},
     "output_type": "execute_result"
    }
   ],
   "source": [
    "goterms.get_go_name('GO:0002250')"
   ]
  },
  {
   "cell_type": "code",
   "execution_count": 28,
   "metadata": {},
   "outputs": [
    {
     "name": "stdout",
     "output_type": "stream",
     "text": [
      "bile acid signaling pathway 0.48454126715660095\n",
      "excretion -0.1464167684316635\n",
      "response to muscle activity -0.39864134788513184\n",
      "response to nutrient -0.6353287100791931\n",
      "response to drug -1.172379732131958\n"
     ]
    }
   ],
   "source": [
    "for t, v in ae0.get_sorted_terms(i):\n",
    "    print(goterms.get_go_name(t), v)"
   ]
  },
  {
   "cell_type": "code",
   "execution_count": 29,
   "metadata": {},
   "outputs": [
    {
     "name": "stdout",
     "output_type": "stream",
     "text": [
      "excretion 0.3298877477645874\n",
      "response to drug 0.2823418378829956\n",
      "bile acid signaling pathway -0.1788444072008133\n",
      "response to muscle activity -0.9024333953857422\n",
      "response to nutrient -1.5098052024841309\n"
     ]
    }
   ],
   "source": [
    "for t, v in ae1.get_sorted_terms(i):\n",
    "    print(goterms.get_go_name(t), v)"
   ]
  },
  {
   "cell_type": "code",
   "execution_count": null,
   "metadata": {},
   "outputs": [],
   "source": []
  }
 ],
 "metadata": {
  "kernelspec": {
   "display_name": "Python 3 (Spyder)",
   "language": "python3",
   "name": "python3"
  },
  "language_info": {
   "codemirror_mode": {
    "name": "ipython",
    "version": 3
   },
   "file_extension": ".py",
   "mimetype": "text/x-python",
   "name": "python",
   "nbconvert_exporter": "python",
   "pygments_lexer": "ipython3",
   "version": "3.6.9"
  }
 },
 "nbformat": 4,
 "nbformat_minor": 4
}
